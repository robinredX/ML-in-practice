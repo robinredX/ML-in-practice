{
 "cells": [
  {
   "cell_type": "markdown",
   "id": "7d1633d6-3e47-4d79-86d5-24cff79bc20e",
   "metadata": {},
   "source": [
    "# Lab 1: Benchmarking data transformations and machine learning algorithms for cell type identification from single-cell RNAseq"
   ]
  },
  {
   "cell_type": "code",
   "execution_count": 1,
   "id": "74731cb0-18a5-44a1-ba0a-ca9bbbf5172d",
   "metadata": {
    "tags": []
   },
   "outputs": [],
   "source": [
    "# import base modules\n",
    "import os\n",
    "import numpy as np\n",
    "import pandas as pd\n",
    "import matplotlib as mpl\n",
    "import matplotlib.pyplot as plt\n",
    "import seaborn as sns"
   ]
  },
  {
   "cell_type": "code",
   "execution_count": 2,
   "id": "1907f2bf-ff6a-44e8-807b-c991abb82e76",
   "metadata": {
    "tags": []
   },
   "outputs": [],
   "source": [
    "sns.set(style=\"ticks\", font_scale=1)"
   ]
  },
  {
   "cell_type": "markdown",
   "id": "dfe07258-6d72-4df6-8534-f5ffe1aa47da",
   "metadata": {},
   "source": [
    "seaborn (works on top of matplotlib) figure styles: [https://seaborn.pydata.org/tutorial/aesthetics.html#seaborn-figure-styles](https://seaborn.pydata.org/tutorial/aesthetics.html#seaborn-figure-styles)"
   ]
  },
  {
   "cell_type": "markdown",
   "id": "e184ff73-84c7-4ec7-bcf1-2cb662a89579",
   "metadata": {},
   "source": [
    "# 1. Problem definition "
   ]
  },
  {
   "cell_type": "markdown",
   "id": "dd97746b-f977-459f-97e8-973707793cd8",
   "metadata": {
    "tags": []
   },
   "source": [
    "## 1.1 Data\n",
    "\n",
    "We shall use the single cell gene expression of human peripheral blood mononuclear cells (PBMC) as prepared in Luecken et al., 2021 ([Benchmarking atlas-level data integration in single-cell genomics](https://www.nature.com/articles/s41592-021-01336-8).\n",
    "\n",
    "Data comes from 2 studies:\n",
    "\n",
    "Freytag et al., 2018: [Comparison of clustering tools in R for medium-sized 10x Genomics single-cell RNA-sequencing data](https://www.ncbi.nlm.nih.gov/pmc/articles/PMC6124389/)\n",
    "\n",
    "Sun et al., 2019: [A Bayesian mixture model for clustering droplet-based single-cell transcriptomic data from population studies](https://www.nature.com/articles/s41467-019-09639-3)"
   ]
  },
  {
   "cell_type": "markdown",
   "id": "7a205d95-272a-44d2-8df7-1b03ba8000f8",
   "metadata": {},
   "source": [
    "## 1.2 Task\n"
   ]
  },
  {
   "cell_type": "markdown",
   "id": "9d644719-0443-45d2-a2ba-efd922c5f3b6",
   "metadata": {
    "tags": []
   },
   "source": [
    "**In this tutorial, we'll first build a model for cell type classification using datasets within Sun et al., 2019 (\"sun\") and later also predict it on Freytag et al., 2019 (\"freytag\")**"
   ]
  },
  {
   "cell_type": "markdown",
   "id": "eb4f67e1-b512-48d8-8188-b9678f496c3b",
   "metadata": {},
   "source": [
    "## 1.3 Evaluation metrics"
   ]
  },
  {
   "cell_type": "markdown",
   "id": "ba59901f-a40a-47a7-b424-c7981bd43527",
   "metadata": {
    "tags": []
   },
   "source": [
    "# overall accuracy\n",
    "\n",
    "$acc = m/n$,\n",
    "where,\n",
    "\n",
    "$m$: Number of predictions where a label matches exactly with the ground truth, and\n",
    "\n",
    "$n$: Number of total samples\n",
    "\n",
    "Between 0 and 1. 1 is the best. By chance is 0.5 (in binary case)."
   ]
  },
  {
   "cell_type": "markdown",
   "id": "1b72c182-2fa7-4e2c-a95d-71ea4f8a9181",
   "metadata": {
    "tags": []
   },
   "source": [
    "## Balanced accuracy\n",
    "\n",
    "balanced_acc is the average of recall per class.\n",
    "\n",
    "$\\text{Recall} = \\frac{\\text{TP}}{\\text{TP}+\\text{FN}},$ where\n",
    "\n",
    "TP: True positive\n",
    "TN: True negative\n",
    "FP: False positive\n",
    "FN: False negative\n",
    "\n",
    "Between 0 and 1. 1 is the best. By chance: $\\frac{1}{\\text{number of classes}}$"
   ]
  },
  {
   "cell_type": "markdown",
   "id": "03e53041-18bb-469d-8be0-60f83daaa2cd",
   "metadata": {},
   "source": [
    "# Read in the data"
   ]
  },
  {
   "cell_type": "code",
   "execution_count": 3,
   "id": "2defce74-ce12-49e9-abe5-2fa127caa2e1",
   "metadata": {
    "tags": []
   },
   "outputs": [
    {
     "data": {
      "text/plain": [
       "['freytag_meta.csv',\n",
       " 'sun_counts.pqt',\n",
       " 'sun_meta.csv',\n",
       " 'freytag_counts.pqt',\n",
       " '.ipynb_checkpoints']"
      ]
     },
     "execution_count": 3,
     "metadata": {},
     "output_type": "execute_result"
    }
   ],
   "source": [
    "os.listdir(\"data\")"
   ]
  },
  {
   "cell_type": "markdown",
   "id": "27a1b3c8-0da8-4121-83fb-5008094f8091",
   "metadata": {
    "tags": []
   },
   "source": [
    "The count data is large and is saved as parquet files which provides an efficient way to strore and read large data matrices among other things. \n",
    "\n",
    "\"Apache Parquet is an open source, column-oriented data file format designed for efficient data storage and retrieval. It provides high performance compression and encoding schemes to handle complex data in bulk and is supported in many programming language and analytics tools.\" From [https://parquet.apache.org/](https://parquet.apache.org/)"
   ]
  },
  {
   "cell_type": "code",
   "execution_count": 4,
   "id": "5c52af7e-1bee-46fa-8807-82213fa13a1d",
   "metadata": {
    "tags": []
   },
   "outputs": [],
   "source": [
    "# Sun\n",
    "\n",
    "df = pd.read_parquet(os.path.join(\"data\", \"sun_counts.pqt\"))\n",
    "df_meta = pd.read_csv(os.path.join(\"data\", \"sun_meta.csv\"), index_col=0)"
   ]
  },
  {
   "cell_type": "code",
   "execution_count": 5,
   "id": "fb028a23-1b6f-41da-bb4a-4259b6873004",
   "metadata": {
    "tags": []
   },
   "outputs": [
    {
     "name": "stdout",
     "output_type": "stream",
     "text": [
      "count data size: (8829, 10851)\n",
      "metadata size: (8829, 14)\n"
     ]
    }
   ],
   "source": [
    "print(f\"count data size: {df.shape}\")\n",
    "print(f\"metadata size: {df_meta.shape}\")"
   ]
  },
  {
   "cell_type": "markdown",
   "id": "03f068de-2aab-49d3-95f6-daffaffcde09",
   "metadata": {},
   "source": [
    "Gene expression data consists of \"counts\" and the associated metadata. Below is a protocol on how this data is generated for a specific technology (10x Chromium)"
   ]
  },
  {
   "cell_type": "markdown",
   "id": "edc3ae6e-eda6-4bfc-a12e-2df7f3015fef",
   "metadata": {
    "tags": []
   },
   "source": [
    "![Single cell RNA sequencing](images/10xschematic.jpg \"Title\")"
   ]
  },
  {
   "cell_type": "markdown",
   "id": "689f9b1a-86f9-4d9f-a95b-801714352d8a",
   "metadata": {
    "tags": []
   },
   "source": [
    "The result is a count matrix (a matrix of integer where each value indicates the copies of transcripts for each genes.)"
   ]
  },
  {
   "cell_type": "code",
   "execution_count": 6,
   "id": "c342ca00-a92d-42eb-b2b5-4db7a981a8a4",
   "metadata": {
    "tags": []
   },
   "outputs": [
    {
     "data": {
      "text/html": [
       "<div>\n",
       "<style scoped>\n",
       "    .dataframe tbody tr th:only-of-type {\n",
       "        vertical-align: middle;\n",
       "    }\n",
       "\n",
       "    .dataframe tbody tr th {\n",
       "        vertical-align: top;\n",
       "    }\n",
       "\n",
       "    .dataframe thead th {\n",
       "        text-align: right;\n",
       "    }\n",
       "</style>\n",
       "<table border=\"1\" class=\"dataframe\">\n",
       "  <thead>\n",
       "    <tr style=\"text-align: right;\">\n",
       "      <th>index</th>\n",
       "      <th>LINC00115</th>\n",
       "      <th>NOC2L</th>\n",
       "      <th>KLHL17</th>\n",
       "      <th>PLEKHN1</th>\n",
       "      <th>HES4</th>\n",
       "      <th>ISG15</th>\n",
       "      <th>AGRN</th>\n",
       "      <th>TNFRSF18</th>\n",
       "      <th>TNFRSF4</th>\n",
       "      <th>SDF4</th>\n",
       "      <th>...</th>\n",
       "      <th>COL6A1</th>\n",
       "      <th>COL6A2</th>\n",
       "      <th>LSS</th>\n",
       "      <th>MCM3AP-AS1</th>\n",
       "      <th>MCM3AP</th>\n",
       "      <th>YBEY</th>\n",
       "      <th>PCNT</th>\n",
       "      <th>DIP2A</th>\n",
       "      <th>S100B</th>\n",
       "      <th>PRMT2</th>\n",
       "    </tr>\n",
       "    <tr>\n",
       "      <th>index</th>\n",
       "      <th></th>\n",
       "      <th></th>\n",
       "      <th></th>\n",
       "      <th></th>\n",
       "      <th></th>\n",
       "      <th></th>\n",
       "      <th></th>\n",
       "      <th></th>\n",
       "      <th></th>\n",
       "      <th></th>\n",
       "      <th></th>\n",
       "      <th></th>\n",
       "      <th></th>\n",
       "      <th></th>\n",
       "      <th></th>\n",
       "      <th></th>\n",
       "      <th></th>\n",
       "      <th></th>\n",
       "      <th></th>\n",
       "      <th></th>\n",
       "      <th></th>\n",
       "    </tr>\n",
       "  </thead>\n",
       "  <tbody>\n",
       "    <tr>\n",
       "      <th>AAACCTGCACAGACAG-1-Sun_sample1_CS</th>\n",
       "      <td>0.0</td>\n",
       "      <td>0.0</td>\n",
       "      <td>0.0</td>\n",
       "      <td>0.0</td>\n",
       "      <td>0.0</td>\n",
       "      <td>0.0</td>\n",
       "      <td>0.0</td>\n",
       "      <td>0.0</td>\n",
       "      <td>0.0</td>\n",
       "      <td>0.0</td>\n",
       "      <td>...</td>\n",
       "      <td>0.0</td>\n",
       "      <td>0.0</td>\n",
       "      <td>0.0</td>\n",
       "      <td>0.0</td>\n",
       "      <td>0.0</td>\n",
       "      <td>0.0</td>\n",
       "      <td>1.0</td>\n",
       "      <td>0.0</td>\n",
       "      <td>0.0</td>\n",
       "      <td>0.0</td>\n",
       "    </tr>\n",
       "    <tr>\n",
       "      <th>AAACGGGCAGTAGAGC-1-Sun_sample1_CS</th>\n",
       "      <td>0.0</td>\n",
       "      <td>0.0</td>\n",
       "      <td>0.0</td>\n",
       "      <td>0.0</td>\n",
       "      <td>0.0</td>\n",
       "      <td>1.0</td>\n",
       "      <td>0.0</td>\n",
       "      <td>0.0</td>\n",
       "      <td>0.0</td>\n",
       "      <td>0.0</td>\n",
       "      <td>...</td>\n",
       "      <td>0.0</td>\n",
       "      <td>0.0</td>\n",
       "      <td>0.0</td>\n",
       "      <td>0.0</td>\n",
       "      <td>0.0</td>\n",
       "      <td>0.0</td>\n",
       "      <td>0.0</td>\n",
       "      <td>0.0</td>\n",
       "      <td>0.0</td>\n",
       "      <td>0.0</td>\n",
       "    </tr>\n",
       "    <tr>\n",
       "      <th>AAACGGGCATGGTAGG-1-Sun_sample1_CS</th>\n",
       "      <td>0.0</td>\n",
       "      <td>1.0</td>\n",
       "      <td>0.0</td>\n",
       "      <td>0.0</td>\n",
       "      <td>0.0</td>\n",
       "      <td>0.0</td>\n",
       "      <td>0.0</td>\n",
       "      <td>0.0</td>\n",
       "      <td>0.0</td>\n",
       "      <td>0.0</td>\n",
       "      <td>...</td>\n",
       "      <td>0.0</td>\n",
       "      <td>0.0</td>\n",
       "      <td>0.0</td>\n",
       "      <td>0.0</td>\n",
       "      <td>0.0</td>\n",
       "      <td>0.0</td>\n",
       "      <td>0.0</td>\n",
       "      <td>0.0</td>\n",
       "      <td>0.0</td>\n",
       "      <td>3.0</td>\n",
       "    </tr>\n",
       "    <tr>\n",
       "      <th>AAACGGGGTTCCGTCT-1-Sun_sample1_CS</th>\n",
       "      <td>0.0</td>\n",
       "      <td>0.0</td>\n",
       "      <td>0.0</td>\n",
       "      <td>0.0</td>\n",
       "      <td>0.0</td>\n",
       "      <td>0.0</td>\n",
       "      <td>0.0</td>\n",
       "      <td>0.0</td>\n",
       "      <td>0.0</td>\n",
       "      <td>0.0</td>\n",
       "      <td>...</td>\n",
       "      <td>0.0</td>\n",
       "      <td>0.0</td>\n",
       "      <td>0.0</td>\n",
       "      <td>0.0</td>\n",
       "      <td>0.0</td>\n",
       "      <td>1.0</td>\n",
       "      <td>0.0</td>\n",
       "      <td>1.0</td>\n",
       "      <td>0.0</td>\n",
       "      <td>0.0</td>\n",
       "    </tr>\n",
       "    <tr>\n",
       "      <th>AAACGGGTCATCGCTC-1-Sun_sample1_CS</th>\n",
       "      <td>0.0</td>\n",
       "      <td>0.0</td>\n",
       "      <td>0.0</td>\n",
       "      <td>0.0</td>\n",
       "      <td>0.0</td>\n",
       "      <td>0.0</td>\n",
       "      <td>0.0</td>\n",
       "      <td>0.0</td>\n",
       "      <td>0.0</td>\n",
       "      <td>0.0</td>\n",
       "      <td>...</td>\n",
       "      <td>0.0</td>\n",
       "      <td>0.0</td>\n",
       "      <td>0.0</td>\n",
       "      <td>1.0</td>\n",
       "      <td>0.0</td>\n",
       "      <td>1.0</td>\n",
       "      <td>0.0</td>\n",
       "      <td>0.0</td>\n",
       "      <td>0.0</td>\n",
       "      <td>2.0</td>\n",
       "    </tr>\n",
       "  </tbody>\n",
       "</table>\n",
       "<p>5 rows × 10851 columns</p>\n",
       "</div>"
      ],
      "text/plain": [
       "index                              LINC00115  NOC2L  KLHL17  PLEKHN1  HES4  \\\n",
       "index                                                                        \n",
       "AAACCTGCACAGACAG-1-Sun_sample1_CS        0.0    0.0     0.0      0.0   0.0   \n",
       "AAACGGGCAGTAGAGC-1-Sun_sample1_CS        0.0    0.0     0.0      0.0   0.0   \n",
       "AAACGGGCATGGTAGG-1-Sun_sample1_CS        0.0    1.0     0.0      0.0   0.0   \n",
       "AAACGGGGTTCCGTCT-1-Sun_sample1_CS        0.0    0.0     0.0      0.0   0.0   \n",
       "AAACGGGTCATCGCTC-1-Sun_sample1_CS        0.0    0.0     0.0      0.0   0.0   \n",
       "\n",
       "index                              ISG15  AGRN  TNFRSF18  TNFRSF4  SDF4  ...  \\\n",
       "index                                                                    ...   \n",
       "AAACCTGCACAGACAG-1-Sun_sample1_CS    0.0   0.0       0.0      0.0   0.0  ...   \n",
       "AAACGGGCAGTAGAGC-1-Sun_sample1_CS    1.0   0.0       0.0      0.0   0.0  ...   \n",
       "AAACGGGCATGGTAGG-1-Sun_sample1_CS    0.0   0.0       0.0      0.0   0.0  ...   \n",
       "AAACGGGGTTCCGTCT-1-Sun_sample1_CS    0.0   0.0       0.0      0.0   0.0  ...   \n",
       "AAACGGGTCATCGCTC-1-Sun_sample1_CS    0.0   0.0       0.0      0.0   0.0  ...   \n",
       "\n",
       "index                              COL6A1  COL6A2  LSS  MCM3AP-AS1  MCM3AP  \\\n",
       "index                                                                        \n",
       "AAACCTGCACAGACAG-1-Sun_sample1_CS     0.0     0.0  0.0         0.0     0.0   \n",
       "AAACGGGCAGTAGAGC-1-Sun_sample1_CS     0.0     0.0  0.0         0.0     0.0   \n",
       "AAACGGGCATGGTAGG-1-Sun_sample1_CS     0.0     0.0  0.0         0.0     0.0   \n",
       "AAACGGGGTTCCGTCT-1-Sun_sample1_CS     0.0     0.0  0.0         0.0     0.0   \n",
       "AAACGGGTCATCGCTC-1-Sun_sample1_CS     0.0     0.0  0.0         1.0     0.0   \n",
       "\n",
       "index                              YBEY  PCNT  DIP2A  S100B  PRMT2  \n",
       "index                                                               \n",
       "AAACCTGCACAGACAG-1-Sun_sample1_CS   0.0   1.0    0.0    0.0    0.0  \n",
       "AAACGGGCAGTAGAGC-1-Sun_sample1_CS   0.0   0.0    0.0    0.0    0.0  \n",
       "AAACGGGCATGGTAGG-1-Sun_sample1_CS   0.0   0.0    0.0    0.0    3.0  \n",
       "AAACGGGGTTCCGTCT-1-Sun_sample1_CS   1.0   0.0    1.0    0.0    0.0  \n",
       "AAACGGGTCATCGCTC-1-Sun_sample1_CS   1.0   0.0    0.0    0.0    2.0  \n",
       "\n",
       "[5 rows x 10851 columns]"
      ]
     },
     "execution_count": 6,
     "metadata": {},
     "output_type": "execute_result"
    }
   ],
   "source": [
    "# Print head of data\n",
    "df.head()"
   ]
  },
  {
   "cell_type": "markdown",
   "id": "aff9d452-3fa2-4352-9e10-a526ff725ae9",
   "metadata": {
    "tags": []
   },
   "source": [
    "The dataset has 8,829 cells and 10,851 genes."
   ]
  },
  {
   "cell_type": "code",
   "execution_count": 7,
   "id": "ba77327b-9184-4c2d-b519-e37a24ef3355",
   "metadata": {
    "tags": []
   },
   "outputs": [
    {
     "data": {
      "text/html": [
       "<div>\n",
       "<style scoped>\n",
       "    .dataframe tbody tr th:only-of-type {\n",
       "        vertical-align: middle;\n",
       "    }\n",
       "\n",
       "    .dataframe tbody tr th {\n",
       "        vertical-align: top;\n",
       "    }\n",
       "\n",
       "    .dataframe thead th {\n",
       "        text-align: right;\n",
       "    }\n",
       "</style>\n",
       "<table border=\"1\" class=\"dataframe\">\n",
       "  <thead>\n",
       "    <tr style=\"text-align: right;\">\n",
       "      <th></th>\n",
       "      <th>batch</th>\n",
       "      <th>chemistry</th>\n",
       "      <th>data_type</th>\n",
       "      <th>dpt_pseudotime</th>\n",
       "      <th>final_annotation</th>\n",
       "      <th>mt_frac</th>\n",
       "      <th>n_counts</th>\n",
       "      <th>n_genes</th>\n",
       "      <th>sample_ID</th>\n",
       "      <th>size_factors</th>\n",
       "      <th>species</th>\n",
       "      <th>study</th>\n",
       "      <th>tissue</th>\n",
       "      <th>cell_type</th>\n",
       "    </tr>\n",
       "    <tr>\n",
       "      <th>index</th>\n",
       "      <th></th>\n",
       "      <th></th>\n",
       "      <th></th>\n",
       "      <th></th>\n",
       "      <th></th>\n",
       "      <th></th>\n",
       "      <th></th>\n",
       "      <th></th>\n",
       "      <th></th>\n",
       "      <th></th>\n",
       "      <th></th>\n",
       "      <th></th>\n",
       "      <th></th>\n",
       "      <th></th>\n",
       "    </tr>\n",
       "  </thead>\n",
       "  <tbody>\n",
       "    <tr>\n",
       "      <th>AAACCTGCACAGACAG-1-Sun_sample1_CS</th>\n",
       "      <td>Sun_sample1_CS</td>\n",
       "      <td>10X</td>\n",
       "      <td>UMI</td>\n",
       "      <td>NaN</td>\n",
       "      <td>CD4+ T cells</td>\n",
       "      <td>0.023411</td>\n",
       "      <td>5083.0</td>\n",
       "      <td>1269.0</td>\n",
       "      <td>3</td>\n",
       "      <td>1.050655</td>\n",
       "      <td>Human</td>\n",
       "      <td>Sun</td>\n",
       "      <td>PBMCs</td>\n",
       "      <td>CD4+ T cells</td>\n",
       "    </tr>\n",
       "    <tr>\n",
       "      <th>AAACGGGCAGTAGAGC-1-Sun_sample1_CS</th>\n",
       "      <td>Sun_sample1_CS</td>\n",
       "      <td>10X</td>\n",
       "      <td>UMI</td>\n",
       "      <td>NaN</td>\n",
       "      <td>CD4+ T cells</td>\n",
       "      <td>0.033540</td>\n",
       "      <td>4025.0</td>\n",
       "      <td>1314.0</td>\n",
       "      <td>3</td>\n",
       "      <td>1.179662</td>\n",
       "      <td>Human</td>\n",
       "      <td>Sun</td>\n",
       "      <td>PBMCs</td>\n",
       "      <td>CD4+ T cells</td>\n",
       "    </tr>\n",
       "    <tr>\n",
       "      <th>AAACGGGCATGGTAGG-1-Sun_sample1_CS</th>\n",
       "      <td>Sun_sample1_CS</td>\n",
       "      <td>10X</td>\n",
       "      <td>UMI</td>\n",
       "      <td>NaN</td>\n",
       "      <td>CD4+ T cells</td>\n",
       "      <td>0.020093</td>\n",
       "      <td>5574.0</td>\n",
       "      <td>1246.0</td>\n",
       "      <td>3</td>\n",
       "      <td>1.050509</td>\n",
       "      <td>Human</td>\n",
       "      <td>Sun</td>\n",
       "      <td>PBMCs</td>\n",
       "      <td>CD4+ T cells</td>\n",
       "    </tr>\n",
       "    <tr>\n",
       "      <th>AAACGGGGTTCCGTCT-1-Sun_sample1_CS</th>\n",
       "      <td>Sun_sample1_CS</td>\n",
       "      <td>10X</td>\n",
       "      <td>UMI</td>\n",
       "      <td>NaN</td>\n",
       "      <td>CD4+ T cells</td>\n",
       "      <td>0.021680</td>\n",
       "      <td>6227.0</td>\n",
       "      <td>1381.0</td>\n",
       "      <td>3</td>\n",
       "      <td>1.266189</td>\n",
       "      <td>Human</td>\n",
       "      <td>Sun</td>\n",
       "      <td>PBMCs</td>\n",
       "      <td>CD4+ T cells</td>\n",
       "    </tr>\n",
       "    <tr>\n",
       "      <th>AAACGGGTCATCGCTC-1-Sun_sample1_CS</th>\n",
       "      <td>Sun_sample1_CS</td>\n",
       "      <td>10X</td>\n",
       "      <td>UMI</td>\n",
       "      <td>NaN</td>\n",
       "      <td>CD4+ T cells</td>\n",
       "      <td>0.068300</td>\n",
       "      <td>8287.0</td>\n",
       "      <td>1892.0</td>\n",
       "      <td>3</td>\n",
       "      <td>1.758033</td>\n",
       "      <td>Human</td>\n",
       "      <td>Sun</td>\n",
       "      <td>PBMCs</td>\n",
       "      <td>CD4+ T cells</td>\n",
       "    </tr>\n",
       "  </tbody>\n",
       "</table>\n",
       "</div>"
      ],
      "text/plain": [
       "                                            batch chemistry data_type  \\\n",
       "index                                                                   \n",
       "AAACCTGCACAGACAG-1-Sun_sample1_CS  Sun_sample1_CS       10X       UMI   \n",
       "AAACGGGCAGTAGAGC-1-Sun_sample1_CS  Sun_sample1_CS       10X       UMI   \n",
       "AAACGGGCATGGTAGG-1-Sun_sample1_CS  Sun_sample1_CS       10X       UMI   \n",
       "AAACGGGGTTCCGTCT-1-Sun_sample1_CS  Sun_sample1_CS       10X       UMI   \n",
       "AAACGGGTCATCGCTC-1-Sun_sample1_CS  Sun_sample1_CS       10X       UMI   \n",
       "\n",
       "                                   dpt_pseudotime final_annotation   mt_frac  \\\n",
       "index                                                                          \n",
       "AAACCTGCACAGACAG-1-Sun_sample1_CS             NaN     CD4+ T cells  0.023411   \n",
       "AAACGGGCAGTAGAGC-1-Sun_sample1_CS             NaN     CD4+ T cells  0.033540   \n",
       "AAACGGGCATGGTAGG-1-Sun_sample1_CS             NaN     CD4+ T cells  0.020093   \n",
       "AAACGGGGTTCCGTCT-1-Sun_sample1_CS             NaN     CD4+ T cells  0.021680   \n",
       "AAACGGGTCATCGCTC-1-Sun_sample1_CS             NaN     CD4+ T cells  0.068300   \n",
       "\n",
       "                                   n_counts  n_genes  sample_ID  size_factors  \\\n",
       "index                                                                           \n",
       "AAACCTGCACAGACAG-1-Sun_sample1_CS    5083.0   1269.0          3      1.050655   \n",
       "AAACGGGCAGTAGAGC-1-Sun_sample1_CS    4025.0   1314.0          3      1.179662   \n",
       "AAACGGGCATGGTAGG-1-Sun_sample1_CS    5574.0   1246.0          3      1.050509   \n",
       "AAACGGGGTTCCGTCT-1-Sun_sample1_CS    6227.0   1381.0          3      1.266189   \n",
       "AAACGGGTCATCGCTC-1-Sun_sample1_CS    8287.0   1892.0          3      1.758033   \n",
       "\n",
       "                                  species study tissue     cell_type  \n",
       "index                                                                 \n",
       "AAACCTGCACAGACAG-1-Sun_sample1_CS   Human   Sun  PBMCs  CD4+ T cells  \n",
       "AAACGGGCAGTAGAGC-1-Sun_sample1_CS   Human   Sun  PBMCs  CD4+ T cells  \n",
       "AAACGGGCATGGTAGG-1-Sun_sample1_CS   Human   Sun  PBMCs  CD4+ T cells  \n",
       "AAACGGGGTTCCGTCT-1-Sun_sample1_CS   Human   Sun  PBMCs  CD4+ T cells  \n",
       "AAACGGGTCATCGCTC-1-Sun_sample1_CS   Human   Sun  PBMCs  CD4+ T cells  "
      ]
     },
     "execution_count": 7,
     "metadata": {},
     "output_type": "execute_result"
    }
   ],
   "source": [
    "# Print head of metadata\n",
    "df_meta.head()"
   ]
  },
  {
   "cell_type": "markdown",
   "id": "21648701-1228-45f6-885a-efeaaa65ba84",
   "metadata": {},
   "source": [
    "Our column of interest is \"cell_type\" which we will train models on."
   ]
  },
  {
   "cell_type": "code",
   "execution_count": 8,
   "id": "a2f7bc65-d2cb-4526-bd23-3b31f906e429",
   "metadata": {
    "tags": []
   },
   "outputs": [],
   "source": [
    "# prepare X and y\n",
    "\n",
    "X = df.copy() # changes made in X won't affect df. For dictionaries, use deepcopy()\n",
    "y = df_meta[\"cell_type\"]"
   ]
  },
  {
   "cell_type": "code",
   "execution_count": 9,
   "id": "c3e03a0e-eb1b-4b80-a27a-1ceb15801649",
   "metadata": {
    "tags": []
   },
   "outputs": [
    {
     "name": "stdout",
     "output_type": "stream",
     "text": [
      "(8829, 10851) (8829,)\n"
     ]
    }
   ],
   "source": [
    "# updated sizes\n",
    "print(X.shape, y.shape)"
   ]
  },
  {
   "cell_type": "markdown",
   "id": "af25cbc4-22a2-45be-92f3-0d04b268aea5",
   "metadata": {},
   "source": [
    "# Data split"
   ]
  },
  {
   "cell_type": "markdown",
   "id": "c8bd0449-113b-40f7-8215-7b4aa0837024",
   "metadata": {
    "tags": []
   },
   "source": [
    "Create a training set and a test set.\n",
    "\n",
    "Two rules apply:\n",
    "1. There should be no leakage between the train and test set. If there are more samples from one patient, both samples should remain in the same split.\n",
    "2. Test set should be sufficiently large to assess the performance."
   ]
  },
  {
   "cell_type": "code",
   "execution_count": 10,
   "id": "136fa510-ce1b-48ed-a71f-0ceee8a5ee18",
   "metadata": {
    "tags": []
   },
   "outputs": [],
   "source": [
    "from sklearn.model_selection import train_test_split"
   ]
  },
  {
   "cell_type": "code",
   "execution_count": 11,
   "id": "91cbb17d-591d-4199-9d1c-ab79919ed7b8",
   "metadata": {
    "tags": []
   },
   "outputs": [],
   "source": [
    "# We'll do a 80-20 split\n",
    "train_X, test_X, train_y, test_y = train_test_split(X, y, test_size=0.2, random_state=42)"
   ]
  },
  {
   "cell_type": "code",
   "execution_count": 12,
   "id": "c46e8bd4-c777-47db-8d8e-d70c78b30da4",
   "metadata": {
    "tags": []
   },
   "outputs": [
    {
     "name": "stdout",
     "output_type": "stream",
     "text": [
      "(7063, 10851)\n",
      "(1766, 10851)\n",
      "(7063,)\n",
      "(1766,)\n"
     ]
    }
   ],
   "source": [
    "for i in train_X, test_X, train_y, test_y:\n",
    "    print(i.shape)"
   ]
  },
  {
   "cell_type": "markdown",
   "id": "1ccf8320-97dc-49d1-b410-30cf506f3851",
   "metadata": {
    "tags": []
   },
   "source": [
    "## Preprocessing and QC"
   ]
  },
  {
   "cell_type": "markdown",
   "id": "45fd8b46-7f19-4dcf-9afb-e933952196c3",
   "metadata": {},
   "source": [
    "Before we proceed with building a classifiers, there are some things to keep in mind:\n",
    "    \n",
    "1. There may be poor quality samples that we want to avoid learning from,\n",
    "2. There may be some features that might be redundant, and \n",
    "3. In cases like this, we have more features than samples (10,851 vs 7,063). Such high dimensional data may be difficult for learners. This refers to \"curse of dimensionality, especially when the data can not be represented appropriates in 3D physical spaces. For gene expression data, this is the case, however due to biology several genes can be associated with specific cell types. **Domain knowledge helps**!"
   ]
  },
  {
   "cell_type": "markdown",
   "id": "a5415b54-e750-40b3-a63a-0dfe8825502f",
   "metadata": {},
   "source": [
    "Domain knowledge also helps in deciding on preprocessing."
   ]
  },
  {
   "cell_type": "markdown",
   "id": "ea9bfb4d-dbd4-4b79-9044-8b73adc33bb1",
   "metadata": {},
   "source": [
    "### Removing atypical samples"
   ]
  },
  {
   "cell_type": "markdown",
   "id": "0b6f9d6a-b6d1-415e-ad6a-8b3c06c35693",
   "metadata": {},
   "source": [
    "First we will compute total genes expressed per sample"
   ]
  },
  {
   "cell_type": "code",
   "execution_count": 13,
   "id": "87928063-8b8a-4dfc-abf5-006134b79133",
   "metadata": {
    "tags": []
   },
   "outputs": [],
   "source": [
    "def count_genes(df):\n",
    "    df_bool = df.astype(bool)\n",
    "    exp_genes = df_bool.sum(axis=1)\n",
    "    return exp_genes\n",
    "\n",
    "def count_total_count(df):\n",
    "    sums = df.sum(1)\n",
    "    return sums"
   ]
  },
  {
   "cell_type": "code",
   "execution_count": 14,
   "id": "f3a1200f-ccfb-46aa-859b-2105fdcfa591",
   "metadata": {
    "tags": []
   },
   "outputs": [],
   "source": [
    "gene_counts, total_counts = count_genes(train_X), count_total_count(train_X)"
   ]
  },
  {
   "cell_type": "code",
   "execution_count": 15,
   "id": "15e4366b-2583-41db-8ef9-ae8ce6d8d408",
   "metadata": {
    "tags": []
   },
   "outputs": [
    {
     "data": {
      "image/png": "[encoded data removed]",
      "text/plain": [
       "<Figure size 1000x300 with 2 Axes>"
      ]
     },
     "metadata": {},
     "output_type": "display_data"
    }
   ],
   "source": [
    "# We can plot these to see if there are some outliers\n",
    "\n",
    "plt.figure(figsize=(10,3))\n",
    "ax = plt.subplot(1,2,1)\n",
    "ax.hist(gene_counts, histtype=\"step\", bins=100)\n",
    "ax.set_title(\"Number of expressed genes per cell\")\n",
    "\n",
    "# We can plot these to see if there are some outliers\n",
    "ax = plt.subplot(1,2,2)\n",
    "plt.hist(total_counts, histtype=\"step\", bins=100)\n",
    "plt.title(\"Total counts per cell\")\n",
    "plt.show()"
   ]
  },
  {
   "cell_type": "markdown",
   "id": "31b0b6e5-6da5-4c45-b06c-775b9dacbf4c",
   "metadata": {},
   "source": [
    "<ins>Note</ins>: The choice of how to select outliers is mostly domain specific. In clinical data, it maybe \"exceptionally atypical measurements\", in financial data, it may be a specific month (April saw a reducing in US financial debt, so can't rely observations during that time, unless of course if that is your target. In cases, where such information is not possible, dedicated outlier detection methods can be utilized. [https://scikit-learn.org/stable/modules/outlier_detection.html](https://scikit-learn.org/stable/modules/outlier_detection.html)"
   ]
  },
  {
   "cell_type": "markdown",
   "id": "f4a47b30-2672-4406-90d9-11bae107eb2b",
   "metadata": {},
   "source": [
    "From our training data, we will remove cells with total expressed genes between 500 and 2000 and with total genes per cell over 7500."
   ]
  },
  {
   "cell_type": "code",
   "execution_count": 16,
   "id": "aea9a469-79ac-40bf-871b-5c41416fcd13",
   "metadata": {
    "tags": []
   },
   "outputs": [],
   "source": [
    "gene_min, gene_max = 500, 2000\n",
    "count_max = 7500"
   ]
  },
  {
   "cell_type": "code",
   "execution_count": 17,
   "id": "88c9db71-0d45-42a8-b4f9-148919dd3927",
   "metadata": {
    "tags": []
   },
   "outputs": [],
   "source": [
    "idxs_rm = []\n",
    "idxs_rm = gene_counts[(gene_counts<gene_min)&(gene_counts>gene_max)].index.tolist()\n",
    "idxs_rm = idxs_rm + total_counts[total_counts>count_max].index.tolist()"
   ]
  },
  {
   "cell_type": "code",
   "execution_count": 18,
   "id": "d14485f7-087b-4a98-9a2f-2fa43a4da4f4",
   "metadata": {
    "tags": []
   },
   "outputs": [
    {
     "name": "stdout",
     "output_type": "stream",
     "text": [
      "223\n"
     ]
    }
   ],
   "source": [
    "print(len(idxs_rm))"
   ]
  },
  {
   "cell_type": "code",
   "execution_count": 19,
   "id": "089d1c95-6f20-4283-8efe-98ac8cbdbfb9",
   "metadata": {
    "tags": []
   },
   "outputs": [],
   "source": [
    "train_X, train_y = train_X.drop(idxs_rm), train_y.drop(idxs_rm)"
   ]
  },
  {
   "cell_type": "markdown",
   "id": "644d75e4-8e5a-4a38-b061-dcf4974b5dd7",
   "metadata": {},
   "source": [
    "## Normalization"
   ]
  },
  {
   "cell_type": "code",
   "execution_count": 20,
   "id": "b4a242b5-0b40-4d6a-ba49-5a5a02cd2165",
   "metadata": {
    "tags": []
   },
   "outputs": [],
   "source": [
    "# domain specific (Make sure each cell has same total RNA)\n",
    "train_X = train_X.div(train_X.sum(1), 0)  # Divide each value in a row by the row sum\n",
    "train_X = train_X*1e6 \n",
    "train_X = np.log2(train_X+1)"
   ]
  },
  {
   "cell_type": "code",
   "execution_count": 21,
   "id": "7e8d77da-5bdf-4070-b706-8e74b57eb7af",
   "metadata": {
    "tags": []
   },
   "outputs": [
    {
     "data": {
      "text/plain": [
       "(0.0, 18.968884563660744)"
      ]
     },
     "execution_count": 21,
     "metadata": {},
     "output_type": "execute_result"
    }
   ],
   "source": [
    "train_X.min().min(), train_X.max().max()"
   ]
  },
  {
   "cell_type": "markdown",
   "id": "5f1b32e9-2210-450a-9c57-da04dd800dd2",
   "metadata": {},
   "source": [
    "This normalizes counts such that each cell's total count sums to 1 million and take log2 of it. Computing log2 makes really high gene expressions to be comparable to others. It's a lightweight way of mitigating gene expression disparity and also \"approximates\" a normal distribution (a nice property of have). In single-cell, \"approximates\" doesn't usually occur due to high sparsity i.e. many features are 0's (check with (train_X==0).sum()). This is not a settled issue. Several different approaches are possible and the science is not settled. Some normalizations are discussed in this review: [https://link.springer.com/article/10.1186/s12864-024-10364-5](https://link.springer.com/article/10.1186/s12864-024-10364-5)"
   ]
  },
  {
   "cell_type": "code",
   "execution_count": 22,
   "id": "46bb23c8-8b7e-4a7d-8d7c-a3a592bc3944",
   "metadata": {
    "tags": []
   },
   "outputs": [
    {
     "data": {
      "text/plain": [
       "index\n",
       "LINC00115    6758\n",
       "NOC2L        5885\n",
       "KLHL17       6816\n",
       "PLEKHN1      6817\n",
       "HES4         6654\n",
       "             ... \n",
       "YBEY         6358\n",
       "PCNT         6654\n",
       "DIP2A        6145\n",
       "S100B        6631\n",
       "PRMT2        3962\n",
       "Length: 10851, dtype: int64"
      ]
     },
     "execution_count": 22,
     "metadata": {},
     "output_type": "execute_result"
    }
   ],
   "source": [
    "(train_X==0).sum()"
   ]
  },
  {
   "cell_type": "markdown",
   "id": "c72169fb-1fe8-43a4-b54c-096a64623573",
   "metadata": {
    "tags": []
   },
   "source": [
    "So that the model weights each feature appropriately, we need to make the data such that each feature has same impact in theory.\n",
    "\n",
    "After this, we have two standard routes to take\n",
    "\n",
    "1. Min-Max normalization: Scale all values between 0 and 1: Appropriate when you expect uniformly distributed features\n",
    "2. Mean-var or standard scaling: Zero center data: Appropriate when you expect \"somewhat\" normally distributed features\n",
    "\n",
    "These can be sensitive to outliers. There are other \"exotic\" ways to normalize like based on median etc.\n",
    "\n",
    "<ins>Note</ins>: Some algorithms like Random Forest are less sensitive to preprocessing and can handle data as it is as we'll see later on."
   ]
  },
  {
   "cell_type": "code",
   "execution_count": 23,
   "id": "b9f101d3-70b0-4449-b234-8d4cf124e23e",
   "metadata": {
    "tags": []
   },
   "outputs": [
    {
     "data": {
      "image/png": "[encoded data removed]",
      "text/plain": [
       "<Figure size 1000x300 with 2 Axes>"
      ]
     },
     "metadata": {},
     "output_type": "display_data"
    }
   ],
   "source": [
    "# Let's see the distribution of two genes and how they can differ\n",
    "\n",
    "genes = np.random.choice(train_X.columns, 2)\n",
    "plt.figure(figsize=(10,3))\n",
    "ax = plt.subplot(1,2,1)\n",
    "ax.hist(train_X[genes[0]], histtype=\"step\", bins=10)\n",
    "ax.set_title(genes[0])\n",
    "\n",
    "# We can plot these to see if there are some outliers\n",
    "ax = plt.subplot(1,2,2)\n",
    "plt.hist(train_X[genes[1]], histtype=\"step\", bins=10)\n",
    "plt.title(genes[1])\n",
    "plt.show()"
   ]
  },
  {
   "cell_type": "code",
   "execution_count": 24,
   "id": "711da0b0-ad38-427f-97aa-3503c4377178",
   "metadata": {
    "tags": []
   },
   "outputs": [],
   "source": [
    "# Here we'll generate three scalings and store data \n",
    "\n",
    "from sklearn.preprocessing import MinMaxScaler, StandardScaler\n",
    "minmaxscaler = MinMaxScaler() # This will store the computed parameters for the scaling\n",
    "meanvarscaler = StandardScaler()\n",
    "\n",
    "minmaxscaler.fit(train_X)\n",
    "meanvarscaler.fit(train_X)\n",
    "\n",
    "train_X_minmax = minmaxscaler.transform(train_X) # transform converts pandas dataframe to numpy array\n",
    "train_X_meanvar = meanvarscaler.transform(train_X) # transform converts pandas dataframe to numpy array\n",
    "\n",
    "train_X_minmax = pd.DataFrame(train_X_minmax, columns=train_X.columns, index=train_X.index) # reattach indices and columns\n",
    "train_X_meanvar = pd.DataFrame(train_X_meanvar, columns=train_X.columns, index=train_X.index) # reattach indices and columns"
   ]
  },
  {
   "cell_type": "code",
   "execution_count": 25,
   "id": "02bb4304-47f9-432d-8f7a-01291549baec",
   "metadata": {
    "tags": []
   },
   "outputs": [],
   "source": [
    "# transform test set\n",
    "test_X_minmax = minmaxscaler.transform(test_X) \n",
    "test_X_meanvar = meanvarscaler.transform(test_X) \n",
    "\n",
    "test_X_minmax = pd.DataFrame(test_X_minmax, columns=test_X.columns, index=test_X.index) # reattach indices and columns\n",
    "test_X_meanvar = pd.DataFrame(test_X_meanvar, columns=test_X.columns, index=test_X.index) # reattach indices and columns"
   ]
  },
  {
   "cell_type": "code",
   "execution_count": 26,
   "id": "2f44fa22-a264-400c-b784-433648d36ebd",
   "metadata": {
    "tags": []
   },
   "outputs": [
    {
     "name": "stdout",
     "output_type": "stream",
     "text": [
      "Min Max scaler\n",
      "Min: [0. 0. 0. ... 0. 0. 0.]\n",
      "Max: [ 8.97154933 10.24218023  9.55086927 ... 10.92318296 12.57041028\n",
      " 11.06187894]\n",
      "Shape of Min and Max: 10851\n",
      "-----\n",
      "Mean: [0.09520964 1.13363265 0.02843088 ... 0.83848201 0.27343459 3.54945278]\n",
      "Var: [ 0.74918476  7.96709673  0.23065692 ...  6.25453479  2.40668545\n",
      " 17.57992874]\n",
      "Shape of Mean and Var: 10851\n"
     ]
    }
   ],
   "source": [
    "# parameters can be checked\n",
    "print(\"Min Max scaler\")\n",
    "print(f\"Min: {minmaxscaler.data_min_}\")\n",
    "print(f\"Max: {minmaxscaler.data_max_}\")\n",
    "print(f\"Shape of Min and Max: {minmaxscaler.data_min_.shape[0]}\")\n",
    "\n",
    "print(\"-----\")\n",
    "# parameters can be checked\n",
    "print(f\"Mean: {meanvarscaler.mean_}\")\n",
    "print(f\"Var: {meanvarscaler.var_}\")\n",
    "print(f\"Shape of Mean and Var: {meanvarscaler.mean_.shape[0]}\")"
   ]
  },
  {
   "cell_type": "markdown",
   "id": "95adff7f-573e-4701-ac25-7b077d67826b",
   "metadata": {
    "tags": []
   },
   "source": [
    "## Further since we may have so-called \"curse of dimensionality\", we can take three approaches:\n",
    "\n",
    "1. Do nothing: Use data as it is\n",
    "2. Select highly variable genes, as they impact more the change in classes\n",
    "3. Supervised feature selection\n",
    "4. Do regularization while learning -> Not all methods can do that. Support vector machines, multilayered perceptrons can. RF can't.\n",
    "3. Perform a dimensionality reduction technique: PCA, autoencoder (Autoencoders will be covered tomorrow)."
   ]
  },
  {
   "cell_type": "code",
   "execution_count": 27,
   "id": "4ce8ca18-94bd-4431-9b12-366dafc7f92d",
   "metadata": {
    "tags": []
   },
   "outputs": [],
   "source": [
    "def select_khvg(X, y, k=500):\n",
    "    \"\"\"\n",
    "    Per cell type, select k most variable features (by standard deviation)\n",
    "    \"\"\"\n",
    "    feats = []\n",
    "    for e in y.unique():\n",
    "        idxs_e = y[y==e].index\n",
    "        sub_df = X.loc[idxs_e]\n",
    "        stds = sub_df.std() # compute standard deviation\n",
    "        stds.sort_values(ascending=False) # sort by decreasing order\n",
    "        feats = feats + stds.index[:k].tolist()\n",
    "    \n",
    "    feats = list(set(feats)) # remove duplicated features\n",
    "    return X[feats]\n",
    "\n",
    "def do_pca():\n",
    "    \"\"\"\n",
    "    Perform PCA with n components. See from here: https://scikit-learn.org/stable/modules/generated/sklearn.decomposition.PCA.html\n",
    "    Remember to save the PCA class so that you can apply it on the test set. Similar to minmaxscalers\n",
    "    Bonus: make informed choice about n.\n",
    "    \"\"\"\n",
    "    pass\n",
    "\n",
    "def do_sup():\n",
    "    \"\"\"\n",
    "    Perform suprvised feature selection using method of your choice (Model based or univariate). \n",
    "    See from here https://scikit-learn.org/stable/modules/feature_selection.html#univariate-feature-selection\n",
    "    \"\"\"\n",
    "    pass"
   ]
  },
  {
   "cell_type": "code",
   "execution_count": 28,
   "id": "6b0f4ea6-dba1-44b9-a12f-572b75bc1547",
   "metadata": {
    "tags": []
   },
   "outputs": [],
   "source": [
    "train_X_meanvar_khvg = select_khvg(train_X_meanvar, train_y)\n",
    "\n",
    "# train_X_pca = do_pca(...)\n",
    "# train_X_sup = do_sup(...)"
   ]
  },
  {
   "cell_type": "code",
   "execution_count": 29,
   "id": "84df5963-0a64-4b0c-95ba-cfd531cb1874",
   "metadata": {
    "tags": []
   },
   "outputs": [],
   "source": [
    "# Apply it on the test data\n",
    "\n",
    "test_X_meanvar_khvg = test_X_meanvar[train_X_meanvar_khvg.columns]\n",
    "\n",
    "# test_X_pca = ... # Hint: Apply PCA transform\n",
    "# test_X_sup = ... # Hint: Will vary depending on the method of choice\n"
   ]
  },
  {
   "cell_type": "markdown",
   "id": "aa1c8dcd-89cb-453a-ad10-a1560fddcf5c",
   "metadata": {},
   "source": [
    "## Build general optimizer"
   ]
  },
  {
   "cell_type": "code",
   "execution_count": 30,
   "id": "d3a6a334-3726-43b2-a3f7-d664667dcd6c",
   "metadata": {
    "tags": []
   },
   "outputs": [],
   "source": [
    "from sklearn.model_selection import RandomizedSearchCV\n",
    "def optimize_clf(X, y, estimator, params, n_iter=10, cv=None, verbose=3, scoring=\"balanced_accuracy\"):\n",
    "    \"\"\"\n",
    "    Wraps around https://scikit-learn.org/stable/modules/generated/sklearn.model_selection.RandomizedSearchCV.html and randomly searches over\n",
    "        parameter distributions and scores each iteration\n",
    "    \n",
    "    X, y: train_X, train_y\n",
    "    estimator: the classifier e.g. forest = RandomForestClassifier(random_state=42)\n",
    "    params: dictionary containing parameter distributions\n",
    "    n_iter: Number of iterations\n",
    "    cv: k for k-fold cross validation, default 5\n",
    "    verbose: Controls the verbosity: the higher, the more messages.\n",
    "        >1 : the computation time for each fold and parameter candidate is displayed;\n",
    "        >2 : the score is also displayed;\n",
    "        >3 : the fold and candidate parameter indexes are also displayed together with the starting time of the computation.\n",
    "    scoring: a string specifying method to use for scoring each run or callable function\n",
    "    \"\"\"\n",
    "    cv = RandomizedSearchCV(estimator=estimator, param_distributions=params, n_iter=n_iter, cv=cv, verbose=verbose, scoring=scoring)\n",
    "    cv.fit(X, y)\n",
    "    return cv.best_params_, cv.best_estimator_"
   ]
  },
  {
   "cell_type": "markdown",
   "id": "2135b2a0-f758-4a1d-98ca-5b2bce01f535",
   "metadata": {},
   "source": [
    "## Build classifiers"
   ]
  },
  {
   "cell_type": "code",
   "execution_count": 31,
   "id": "5a41efd6-e32c-49b2-9fd0-fed7a30f78b6",
   "metadata": {
    "tags": []
   },
   "outputs": [],
   "source": [
    "## Below, we call RandomForestClassifier class and optimize the hyperparameters on data with all genes and khvg\n",
    "from sklearn.ensemble import RandomForestClassifier\n",
    "forest1 = RandomForestClassifier(random_state=42)\n",
    "forest2 = RandomForestClassifier(random_state=42)"
   ]
  },
  {
   "cell_type": "code",
   "execution_count": 32,
   "id": "1cdfa796-dd50-4b0c-bafe-42c1c633bb48",
   "metadata": {
    "tags": []
   },
   "outputs": [
    {
     "data": {
      "text/plain": [
       "{'bootstrap': True,\n",
       " 'ccp_alpha': 0.0,\n",
       " 'class_weight': None,\n",
       " 'criterion': 'gini',\n",
       " 'max_depth': None,\n",
       " 'max_features': 'sqrt',\n",
       " 'max_leaf_nodes': None,\n",
       " 'max_samples': None,\n",
       " 'min_impurity_decrease': 0.0,\n",
       " 'min_samples_leaf': 1,\n",
       " 'min_samples_split': 2,\n",
       " 'min_weight_fraction_leaf': 0.0,\n",
       " 'n_estimators': 100,\n",
       " 'n_jobs': None,\n",
       " 'oob_score': False,\n",
       " 'random_state': None,\n",
       " 'verbose': 0,\n",
       " 'warm_start': False}"
      ]
     },
     "execution_count": 32,
     "metadata": {},
     "output_type": "execute_result"
    }
   ],
   "source": [
    "# get params (https://scikit-learn.org/stable/modules/generated/sklearn.ensemble.RandomForestClassifier.html)\n",
    "RandomForestClassifier().get_params()"
   ]
  },
  {
   "cell_type": "code",
   "execution_count": 33,
   "id": "bbd8079f-3457-4073-b964-6b7d15f53c47",
   "metadata": {
    "tags": []
   },
   "outputs": [],
   "source": [
    "# We'll optimize two hyperparameters\n",
    "params = {'max_depth': [5, 10, 15, 20],\n",
    "          'min_samples_split': [5, 10, 20]}"
   ]
  },
  {
   "cell_type": "code",
   "execution_count": 34,
   "id": "a5ae5794-7aa1-416c-a192-c41987836974",
   "metadata": {
    "tags": []
   },
   "outputs": [
    {
     "name": "stdout",
     "output_type": "stream",
     "text": [
      "Fitting 5 folds for each of 10 candidates, totalling 50 fits\n",
      "[CV 1/5] END max_depth=20, min_samples_split=20;, score=0.714 total time=   9.8s\n",
      "[CV 2/5] END max_depth=20, min_samples_split=20;, score=0.662 total time=   9.8s\n",
      "[CV 3/5] END max_depth=20, min_samples_split=20;, score=0.689 total time=   9.7s\n",
      "[CV 4/5] END max_depth=20, min_samples_split=20;, score=0.723 total time=   9.8s\n",
      "[CV 5/5] END max_depth=20, min_samples_split=20;, score=0.678 total time=   9.8s\n",
      "[CV 1/5] END .max_depth=10, min_samples_split=5;, score=0.720 total time=   6.5s\n",
      "[CV 2/5] END .max_depth=10, min_samples_split=5;, score=0.649 total time=   6.5s\n",
      "[CV 3/5] END .max_depth=10, min_samples_split=5;, score=0.678 total time=   6.5s\n",
      "[CV 4/5] END .max_depth=10, min_samples_split=5;, score=0.708 total time=   6.5s\n",
      "[CV 5/5] END .max_depth=10, min_samples_split=5;, score=0.666 total time=   6.5s\n",
      "[CV 1/5] END .max_depth=5, min_samples_split=20;, score=0.406 total time=   3.5s\n",
      "[CV 2/5] END .max_depth=5, min_samples_split=20;, score=0.391 total time=   3.5s\n",
      "[CV 3/5] END .max_depth=5, min_samples_split=20;, score=0.382 total time=   3.5s\n",
      "[CV 4/5] END .max_depth=5, min_samples_split=20;, score=0.404 total time=   3.5s\n",
      "[CV 5/5] END .max_depth=5, min_samples_split=20;, score=0.397 total time=   3.5s\n",
      "[CV 1/5] END max_depth=10, min_samples_split=10;, score=0.695 total time=   6.4s\n",
      "[CV 2/5] END max_depth=10, min_samples_split=10;, score=0.649 total time=   6.4s\n",
      "[CV 3/5] END max_depth=10, min_samples_split=10;, score=0.671 total time=   6.4s\n",
      "[CV 4/5] END max_depth=10, min_samples_split=10;, score=0.671 total time=   6.4s\n",
      "[CV 5/5] END max_depth=10, min_samples_split=10;, score=0.658 total time=   6.4s\n",
      "[CV 1/5] END .max_depth=20, min_samples_split=5;, score=0.734 total time=  10.2s\n",
      "[CV 2/5] END .max_depth=20, min_samples_split=5;, score=0.659 total time=  10.2s\n",
      "[CV 3/5] END .max_depth=20, min_samples_split=5;, score=0.685 total time=  10.2s\n",
      "[CV 4/5] END .max_depth=20, min_samples_split=5;, score=0.718 total time=  10.3s\n",
      "[CV 5/5] END .max_depth=20, min_samples_split=5;, score=0.673 total time=  10.2s\n",
      "[CV 1/5] END .max_depth=15, min_samples_split=5;, score=0.711 total time=   8.7s\n",
      "[CV 2/5] END .max_depth=15, min_samples_split=5;, score=0.660 total time=   8.7s\n",
      "[CV 3/5] END .max_depth=15, min_samples_split=5;, score=0.681 total time=   8.7s\n",
      "[CV 4/5] END .max_depth=15, min_samples_split=5;, score=0.699 total time=   8.7s\n",
      "[CV 5/5] END .max_depth=15, min_samples_split=5;, score=0.671 total time=   8.7s\n",
      "[CV 1/5] END .max_depth=5, min_samples_split=10;, score=0.419 total time=   3.6s\n",
      "[CV 2/5] END .max_depth=5, min_samples_split=10;, score=0.380 total time=   3.5s\n",
      "[CV 3/5] END .max_depth=5, min_samples_split=10;, score=0.385 total time=   3.5s\n",
      "[CV 4/5] END .max_depth=5, min_samples_split=10;, score=0.402 total time=   3.5s\n",
      "[CV 5/5] END .max_depth=5, min_samples_split=10;, score=0.392 total time=   3.5s\n",
      "[CV 1/5] END max_depth=10, min_samples_split=20;, score=0.629 total time=   6.3s\n",
      "[CV 2/5] END max_depth=10, min_samples_split=20;, score=0.642 total time=   6.3s\n",
      "[CV 3/5] END max_depth=10, min_samples_split=20;, score=0.645 total time=   6.3s\n",
      "[CV 4/5] END max_depth=10, min_samples_split=20;, score=0.616 total time=   6.3s\n",
      "[CV 5/5] END max_depth=10, min_samples_split=20;, score=0.662 total time=   6.3s\n",
      "[CV 1/5] END max_depth=15, min_samples_split=10;, score=0.730 total time=   8.5s\n",
      "[CV 2/5] END max_depth=15, min_samples_split=10;, score=0.658 total time=   8.6s\n",
      "[CV 3/5] END max_depth=15, min_samples_split=10;, score=0.686 total time=   8.5s\n",
      "[CV 4/5] END max_depth=15, min_samples_split=10;, score=0.702 total time=   8.5s\n",
      "[CV 5/5] END max_depth=15, min_samples_split=10;, score=0.673 total time=   8.6s\n",
      "[CV 1/5] END ..max_depth=5, min_samples_split=5;, score=0.413 total time=   3.5s\n",
      "[CV 2/5] END ..max_depth=5, min_samples_split=5;, score=0.395 total time=   3.5s\n",
      "[CV 3/5] END ..max_depth=5, min_samples_split=5;, score=0.377 total time=   3.5s\n",
      "[CV 4/5] END ..max_depth=5, min_samples_split=5;, score=0.398 total time=   3.5s\n",
      "[CV 5/5] END ..max_depth=5, min_samples_split=5;, score=0.394 total time=   3.5s\n",
      "Fitting 5 folds for each of 10 candidates, totalling 50 fits\n",
      "[CV 1/5] END max_depth=20, min_samples_split=10;, score=0.346 total time=   2.3s\n",
      "[CV 2/5] END max_depth=20, min_samples_split=10;, score=0.327 total time=   2.3s\n",
      "[CV 3/5] END max_depth=20, min_samples_split=10;, score=0.396 total time=   2.3s\n",
      "[CV 4/5] END max_depth=20, min_samples_split=10;, score=0.331 total time=   2.3s\n",
      "[CV 5/5] END max_depth=20, min_samples_split=10;, score=0.329 total time=   2.2s\n",
      "[CV 1/5] END max_depth=15, min_samples_split=10;, score=0.323 total time=   1.9s\n",
      "[CV 2/5] END max_depth=15, min_samples_split=10;, score=0.334 total time=   1.9s\n",
      "[CV 3/5] END max_depth=15, min_samples_split=10;, score=0.341 total time=   1.9s\n",
      "[CV 4/5] END max_depth=15, min_samples_split=10;, score=0.323 total time=   1.9s\n",
      "[CV 5/5] END max_depth=15, min_samples_split=10;, score=0.309 total time=   1.9s\n",
      "[CV 1/5] END max_depth=10, min_samples_split=20;, score=0.282 total time=   1.4s\n",
      "[CV 2/5] END max_depth=10, min_samples_split=20;, score=0.294 total time=   1.4s\n",
      "[CV 3/5] END max_depth=10, min_samples_split=20;, score=0.308 total time=   1.4s\n",
      "[CV 4/5] END max_depth=10, min_samples_split=20;, score=0.293 total time=   1.4s\n",
      "[CV 5/5] END max_depth=10, min_samples_split=20;, score=0.276 total time=   1.4s\n",
      "[CV 1/5] END .max_depth=5, min_samples_split=10;, score=0.239 total time=   0.8s\n",
      "[CV 2/5] END .max_depth=5, min_samples_split=10;, score=0.238 total time=   0.8s\n",
      "[CV 3/5] END .max_depth=5, min_samples_split=10;, score=0.239 total time=   0.8s\n",
      "[CV 4/5] END .max_depth=5, min_samples_split=10;, score=0.239 total time=   0.8s\n",
      "[CV 5/5] END .max_depth=5, min_samples_split=10;, score=0.243 total time=   0.8s\n",
      "[CV 1/5] END ..max_depth=5, min_samples_split=5;, score=0.239 total time=   0.8s\n",
      "[CV 2/5] END ..max_depth=5, min_samples_split=5;, score=0.238 total time=   0.8s\n",
      "[CV 3/5] END ..max_depth=5, min_samples_split=5;, score=0.239 total time=   0.8s\n",
      "[CV 4/5] END ..max_depth=5, min_samples_split=5;, score=0.241 total time=   0.8s\n",
      "[CV 5/5] END ..max_depth=5, min_samples_split=5;, score=0.241 total time=   0.8s\n",
      "[CV 1/5] END max_depth=20, min_samples_split=20;, score=0.328 total time=   2.2s\n",
      "[CV 2/5] END max_depth=20, min_samples_split=20;, score=0.325 total time=   2.2s\n",
      "[CV 3/5] END max_depth=20, min_samples_split=20;, score=0.351 total time=   2.2s\n",
      "[CV 4/5] END max_depth=20, min_samples_split=20;, score=0.317 total time=   2.2s\n",
      "[CV 5/5] END max_depth=20, min_samples_split=20;, score=0.309 total time=   2.2s\n",
      "[CV 1/5] END .max_depth=10, min_samples_split=5;, score=0.301 total time=   1.4s\n",
      "[CV 2/5] END .max_depth=10, min_samples_split=5;, score=0.294 total time=   1.5s\n",
      "[CV 3/5] END .max_depth=10, min_samples_split=5;, score=0.303 total time=   1.4s\n",
      "[CV 4/5] END .max_depth=10, min_samples_split=5;, score=0.296 total time=   1.5s\n",
      "[CV 5/5] END .max_depth=10, min_samples_split=5;, score=0.286 total time=   1.4s\n",
      "[CV 1/5] END .max_depth=20, min_samples_split=5;, score=0.405 total time=   2.4s\n",
      "[CV 2/5] END .max_depth=20, min_samples_split=5;, score=0.343 total time=   2.3s\n",
      "[CV 3/5] END .max_depth=20, min_samples_split=5;, score=0.400 total time=   2.3s\n",
      "[CV 4/5] END .max_depth=20, min_samples_split=5;, score=0.331 total time=   2.4s\n",
      "[CV 5/5] END .max_depth=20, min_samples_split=5;, score=0.377 total time=   2.4s\n",
      "[CV 1/5] END .max_depth=5, min_samples_split=20;, score=0.238 total time=   0.8s\n",
      "[CV 2/5] END .max_depth=5, min_samples_split=20;, score=0.235 total time=   0.8s\n",
      "[CV 3/5] END .max_depth=5, min_samples_split=20;, score=0.242 total time=   0.8s\n",
      "[CV 4/5] END .max_depth=5, min_samples_split=20;, score=0.237 total time=   0.8s\n",
      "[CV 5/5] END .max_depth=5, min_samples_split=20;, score=0.244 total time=   0.8s\n",
      "[CV 1/5] END .max_depth=15, min_samples_split=5;, score=0.320 total time=   2.0s\n",
      "[CV 2/5] END .max_depth=15, min_samples_split=5;, score=0.317 total time=   1.9s\n",
      "[CV 3/5] END .max_depth=15, min_samples_split=5;, score=0.326 total time=   1.9s\n",
      "[CV 4/5] END .max_depth=15, min_samples_split=5;, score=0.326 total time=   1.9s\n",
      "[CV 5/5] END .max_depth=15, min_samples_split=5;, score=0.317 total time=   1.9s\n"
     ]
    }
   ],
   "source": [
    "best_params_all, best_estimator_all = optimize_clf(train_X_meanvar, train_y, forest1, params, verbose=3)\n",
    "best_params_khvg, best_estimator_khvg = optimize_clf(train_X_meanvar_khvg, train_y, forest2, params, verbose=3)"
   ]
  },
  {
   "cell_type": "code",
   "execution_count": 35,
   "id": "12ec4f27-8996-4285-9fcb-237854791c1b",
   "metadata": {
    "tags": []
   },
   "outputs": [
    {
     "name": "stdout",
     "output_type": "stream",
     "text": [
      "Best params\n",
      "All genes: {'min_samples_split': 5, 'max_depth': 20}\n",
      "khvg: {'min_samples_split': 5, 'max_depth': 20}\n"
     ]
    }
   ],
   "source": [
    "print(\"Best params\")\n",
    "print(f\"All genes: {best_params_all}\")\n",
    "print(f\"khvg: {best_params_khvg}\")"
   ]
  },
  {
   "cell_type": "markdown",
   "id": "e141be16-c4cc-43f2-a070-0cd98d5c5373",
   "metadata": {},
   "source": [
    "Q: Number of samples required to split a node is less for khvg. Why do you think that could be?"
   ]
  },
  {
   "cell_type": "markdown",
   "id": "a2496232-2dfe-453d-a8c8-0bf18dc3df18",
   "metadata": {},
   "source": [
    "## Save models"
   ]
  },
  {
   "cell_type": "code",
   "execution_count": 36,
   "id": "a08a4bed-8f8a-422e-b02a-4c9be7959dd9",
   "metadata": {
    "tags": []
   },
   "outputs": [],
   "source": [
    "model_dir = \"models\"\n",
    "\n",
    "if not os.path.exists(model_dir):\n",
    "    os.mkdir(model_dir)"
   ]
  },
  {
   "cell_type": "code",
   "execution_count": 37,
   "id": "bb5729ff-625b-4fe6-89a5-53f1537bbea8",
   "metadata": {
    "tags": []
   },
   "outputs": [
    {
     "data": {
      "text/plain": [
       "['models/meanvar_rf_best_khvg.pkl']"
      ]
     },
     "execution_count": 37,
     "metadata": {},
     "output_type": "execute_result"
    }
   ],
   "source": [
    "import joblib\n",
    "joblib.dump(best_params_all, os.path.join(model_dir, \"meanvar_rf_best_all.pkl\"))\n",
    "joblib.dump(best_params_khvg, os.path.join(model_dir, \"meanvar_rf_best_khvg.pkl\"))"
   ]
  },
  {
   "cell_type": "code",
   "execution_count": 38,
   "id": "501c45b7-a70d-40d6-a853-6392d890807f",
   "metadata": {
    "tags": []
   },
   "outputs": [
    {
     "name": "stdout",
     "output_type": "stream",
     "text": [
      "1.3.0\n"
     ]
    }
   ],
   "source": [
    "# Models are now \"portable\", always keep in mind the sklearn version, else could be issue with reproducibility in another machine\n",
    "import sklearn\n",
    "print(sklearn.__version__)"
   ]
  },
  {
   "cell_type": "code",
   "execution_count": 39,
   "id": "3e84acc4-1bad-4537-85c2-2cfbcbd96543",
   "metadata": {
    "tags": []
   },
   "outputs": [],
   "source": [
    "# Make predictions\n",
    "\n",
    "preds_X_meanvar_all = best_estimator_all.predict(test_X_meanvar)\n",
    "preds_X_meanvar_khvg = best_estimator_khvg.predict(test_X_meanvar_khvg)\n",
    "# .predict() method returns numpy arrays, but dataframes are human readble (tables).\n",
    "\n",
    "preds_X_meanvar_all = pd.DataFrame(preds_X_meanvar_all, index=test_X.index, columns=[\"cell_type\"])\n",
    "preds_X_meanvar_khvg = pd.DataFrame(preds_X_meanvar_khvg, index=test_X.index, columns=[\"cell_type\"])"
   ]
  },
  {
   "cell_type": "markdown",
   "id": "3baa89ba-2fe8-45ba-be4b-6c2e7a058b40",
   "metadata": {
    "tags": []
   },
   "source": [
    "## save predictions"
   ]
  },
  {
   "cell_type": "code",
   "execution_count": 40,
   "id": "30c470da-5510-4731-913e-f374e8b4c13e",
   "metadata": {
    "tags": []
   },
   "outputs": [],
   "source": [
    "preds_dir = \"models\"\n",
    "\n",
    "if not os.path.exists(preds_dir):\n",
    "    os.mkdir(preds_dir)"
   ]
  },
  {
   "cell_type": "code",
   "execution_count": 41,
   "id": "435957c2-9b7f-4f49-8376-44d4f4a521c1",
   "metadata": {
    "tags": []
   },
   "outputs": [],
   "source": [
    "preds_X_meanvar_all.to_csv(os.path.join(preds_dir, \"preds_meanvar_rf_best_all.csv\"))\n",
    "preds_X_meanvar_khvg.to_csv(os.path.join(preds_dir, \"preds_meanvar_rf_best_khvg.csv\"))\n"
   ]
  },
  {
   "cell_type": "markdown",
   "id": "9802bc25-5f44-4db7-8025-36e6f6d84056",
   "metadata": {},
   "source": [
    "## compute metrics"
   ]
  },
  {
   "cell_type": "code",
   "execution_count": 42,
   "id": "1bb142e6-36a7-4c3d-b085-c456e707768e",
   "metadata": {
    "tags": []
   },
   "outputs": [],
   "source": [
    "from sklearn.metrics import accuracy_score\n",
    "from sklearn.metrics import balanced_accuracy_score\n",
    "from sklearn.metrics import f1_score\n",
    "from sklearn.metrics import confusion_matrix"
   ]
  },
  {
   "cell_type": "code",
   "execution_count": 43,
   "id": "62b2c0e3-f891-40b6-bb62-3b5c29b2d600",
   "metadata": {
    "tags": []
   },
   "outputs": [],
   "source": [
    "# create a metrics dir\n",
    "\n",
    "metrics_dir = \"metrics\"\n",
    "if not os.path.exists(metrics_dir):\n",
    "    os.mkdir(metrics_dir)"
   ]
  },
  {
   "cell_type": "code",
   "execution_count": 44,
   "id": "8b71ce67-8abd-4463-bffd-b85a259d427c",
   "metadata": {
    "tags": []
   },
   "outputs": [],
   "source": [
    "def get_scores(preds, true, classes, run_name=\"rf\", metrics_dir=\"metrics\"):\n",
    "    \"\"\"\n",
    "    Compute accuracy, balanced accuracy and confusion matrices\n",
    "    preds: model output\n",
    "    true: ground truth classes\n",
    "    classes: class labels (accessible from .classes_ method from the classifier)\n",
    "    run_name: Attach a readable run name in index of the accuracy dataframe for later use\n",
    "    \"\"\"\n",
    "    acc = accuracy_score(preds, true)\n",
    "    print(f\"Accuracy: {acc}\")\n",
    "    balanced_acc = balanced_accuracy_score(preds, true)\n",
    "    print(f\"Balanced accuracy: {balanced_acc}\")\n",
    "    print(pd.DataFrame([acc, balanced_acc]))\n",
    "    df_acc = pd.DataFrame([acc, balanced_acc], columns=[run_name], index=[\"accuracy\", \"balanced accuracy\"])\n",
    "    cm = confusion_matrix(preds, true)\n",
    "    df_cm = pd.DataFrame(cm, index=classes, columns=classes)\n",
    "    \n",
    "    df_acc.to_csv(os.path.join(metrics_dir, f\"scores_{run_name}.csv\"))\n",
    "    df_cm.to_csv(os.path.join(metrics_dir, f\"cm_{run_name}.csv\"))\n",
    "    return df_acc, df_cm"
   ]
  },
  {
   "cell_type": "code",
   "execution_count": 45,
   "id": "b655af77-48f9-458d-89ed-0ce317e2fc35",
   "metadata": {
    "tags": []
   },
   "outputs": [
    {
     "name": "stdout",
     "output_type": "stream",
     "text": [
      "Accuracy: 0.5962627406568517\n",
      "Balanced accuracy: 0.8384054975340876\n",
      "          0\n",
      "0  0.596263\n",
      "1  0.838405\n"
     ]
    },
    {
     "name": "stderr",
     "output_type": "stream",
     "text": [
      "/opt/conda/lib/python3.10/site-packages/sklearn/metrics/_classification.py:2394: UserWarning: y_pred contains classes not in y_true\n",
      "  warnings.warn(\"y_pred contains classes not in y_true\")\n"
     ]
    }
   ],
   "source": [
    "df_acc, df_cm = get_scores(preds_X_meanvar_all[\"cell_type\"], test_y, best_estimator_all.classes_, \"meanvar_rf_best_all\")"
   ]
  },
  {
   "cell_type": "code",
   "execution_count": 46,
   "id": "76cffe66-1030-4f7a-903d-c28344bee580",
   "metadata": {
    "tags": []
   },
   "outputs": [
    {
     "name": "stdout",
     "output_type": "stream",
     "text": [
      "Accuracy: 0.5062287655719139\n",
      "Balanced accuracy: 0.7212633695215118\n",
      "          0\n",
      "0  0.506229\n",
      "1  0.721263\n"
     ]
    },
    {
     "name": "stderr",
     "output_type": "stream",
     "text": [
      "/opt/conda/lib/python3.10/site-packages/sklearn/metrics/_classification.py:2394: UserWarning: y_pred contains classes not in y_true\n",
      "  warnings.warn(\"y_pred contains classes not in y_true\")\n"
     ]
    }
   ],
   "source": [
    "_, _ = get_scores(preds_X_meanvar_khvg[\"cell_type\"], test_y, best_estimator_all.classes_, \"meanvar_rf_best_khvg\")"
   ]
  },
  {
   "cell_type": "markdown",
   "id": "01ff2465-61af-4a7a-8ea6-302df0035da0",
   "metadata": {},
   "source": [
    "Q: why the user warning?"
   ]
  },
  {
   "cell_type": "code",
   "execution_count": 47,
   "id": "dcc12b00-5b59-464c-8eed-c7bac5f5f6d1",
   "metadata": {
    "tags": []
   },
   "outputs": [],
   "source": [
    "## Plot the metrics\n",
    "\n",
    "dfs = []\n",
    "for run_name in [\"meanvar_rf_best_all\", \"meanvar_rf_best_khvg\"]:\n",
    "    dfs.append(pd.read_csv(os.path.join(metrics_dir, f\"scores_{run_name}.csv\"), index_col=0))\n",
    "df = pd.concat(dfs, axis=1)"
   ]
  },
  {
   "cell_type": "code",
   "execution_count": 48,
   "id": "8b9c0b37-7102-406c-abbe-1b84597acc73",
   "metadata": {
    "tags": []
   },
   "outputs": [
    {
     "data": {
      "text/plain": [
       "<Axes: >"
      ]
     },
     "execution_count": 48,
     "metadata": {},
     "output_type": "execute_result"
    },
    {
     "data": {
      "image/png": "[encoded data removed]",
      "text/plain": [
       "<Figure size 640x480 with 2 Axes>"
      ]
     },
     "metadata": {},
     "output_type": "display_data"
    }
   ],
   "source": [
    "sns.heatmap(df, fmt=\".2f\", annot=True)"
   ]
  },
  {
   "cell_type": "markdown",
   "id": "231bed48-45d9-43cc-9f95-0c7bbf7900f6",
   "metadata": {},
   "source": [
    "# Task: \n",
    "\n",
    "1. Add f1 score to our metrics function, re-run and save the metrics by adding F1 score to the saved dataframe containing the metrics & write equation below.\n",
    "(https://scikit-learn.org/stable/modules/generated/sklearn.metrics.f1_score.html)\n",
    "f1 score: ...\n",
    "\n",
    "<ins>Hint:</ins> LaTeX works with jupyter markdown in general. You can use $$ to write LaTeX."
   ]
  },
  {
   "cell_type": "markdown",
   "id": "f7d378e5-b76d-47df-8707-72aa8b908d2e",
   "metadata": {},
   "source": [
    "2. For random forest, we can assess the most important features. Create a dataframe with genes ranked by their feature importances\n",
    "\n",
    "<ins>Hint</ins>: .feature_importances_ attribute from the random forest classifier will return an array of importances for each feature. The order of features remains same as in train_X."
   ]
  },
  {
   "cell_type": "markdown",
   "id": "1c072d64-f27c-44ee-a1ea-77a0f9725941",
   "metadata": {
    "tags": []
   },
   "source": [
    "Q: How would you compute feature importance per cell type?"
   ]
  },
  {
   "cell_type": "markdown",
   "id": "98aa21e1-fb6e-41e5-ab6c-a4f74bf6ccea",
   "metadata": {},
   "source": [
    "3. Do the same as above for the following classifiers: \n",
    "\n",
    "Classifiers:\n",
    "\n",
    "a. Support vector classifier: https://scikit-learn.org/stable/modules/generated/sklearn.svm.SVC.html#sklearn.svm.SVC \\\n",
    "b. Linear support vector classifier with l1 regularization: https://scikit-learn.org/stable/modules/generated/sklearn.svm.LinearSVC.html#sklearn.svm.LinearSVC \\\n",
    "c. Multi-layered perceptron: https://scikit-learn.org/stable/modules/generated/sklearn.neural_network.MLPClassifier.html \\\n",
    "\n",
    "\n",
    "Subtasks:\n",
    "\n",
    "3.1. Optimize the classifier on train set using cross-validation \\\n",
    "3.2. Save the model \\\n",
    "3.2. Predict on test set \\\n",
    "3.3. save results \\"
   ]
  },
  {
   "cell_type": "markdown",
   "id": "ab31e99f-b1af-405a-9bfa-61fd2dd23f87",
   "metadata": {},
   "source": [
    "# Bonus #1: Lab"
   ]
  },
  {
   "cell_type": "markdown",
   "id": "28a7783b-5ebe-4715-802e-6194e27da1cf",
   "metadata": {},
   "source": [
    "Choose the best classifier, build it on Sun again and predict on freytag."
   ]
  },
  {
   "cell_type": "markdown",
   "id": "015dc262-881b-4155-a87f-0791eeec5890",
   "metadata": {},
   "source": [
    "<ins>Hint</ins>: You will need to subset both the dataset so that they contain same gene."
   ]
  },
  {
   "cell_type": "markdown",
   "id": "31660094-b9eb-4f93-aa17-3270cc9c571f",
   "metadata": {},
   "source": [
    "# Bonus #2: Lab"
   ]
  },
  {
   "cell_type": "markdown",
   "id": "6997cd1b-c747-4c96-b202-28045adca9ee",
   "metadata": {},
   "source": [
    "Write a function to compute metrics per class.\n",
    "\n",
    "<ins>Hint</ins>: You will need to run the functions per class, easiest to do in a lopp.\n"
   ]
  },
  {
   "cell_type": "markdown",
   "id": "422c8866-db23-4b69-85b7-42d5275ecf7d",
   "metadata": {
    "tags": []
   },
   "source": [
    "# Bonus #2: Reading and lab"
   ]
  },
  {
   "cell_type": "markdown",
   "id": "958ce818-91c2-45b9-b92e-f7be77adbaa0",
   "metadata": {},
   "source": [
    "RandomForestClassifier provides feature importances at a global level (i.e. not per sample), while many other algorithms like MLPs do not provide any inherent interpretability. To compute exact or approximated importances or interpretability, SHAP [https://shap.readthedocs.io/en/latest/](https://shap.readthedocs.io/en/latest/) provides a nice framework that is model-agnostic. \n",
    "\n",
    "For tree based models, SHAP provides exact computation of Shapley values [https://en.wikipedia.org/wiki/Shapley_value](https://en.wikipedia.org/wiki/Shapley_value). Paper for the second part: Lundberg et al., 2020 [https://www.nature.com/articles/s42256-019-0138-9](https://www.nature.com/articles/s42256-019-0138-9)"
   ]
  },
  {
   "cell_type": "markdown",
   "id": "f838d7ca-d434-4aef-9159-bc3cc8f1d366",
   "metadata": {},
   "source": [
    "## 2.2 Outliers\n"
   ]
  },
  {
   "cell_type": "code",
   "execution_count": null,
   "id": "c0450ecb-e8db-443d-b58f-8ccecd862052",
   "metadata": {},
   "outputs": [],
   "source": []
  }
 ],
 "metadata": {
  "kernelspec": {
   "display_name": "Python 3 (ipykernel)",
   "language": "python",
   "name": "python3"
  },
  "language_info": {
   "codemirror_mode": {
    "name": "ipython",
    "version": 3
   },
   "file_extension": ".py",
   "mimetype": "text/x-python",
   "name": "python",
   "nbconvert_exporter": "python",
   "pygments_lexer": "ipython3",
   "version": "3.10.10"
  }
 },
 "nbformat": 4,
 "nbformat_minor": 5
}
