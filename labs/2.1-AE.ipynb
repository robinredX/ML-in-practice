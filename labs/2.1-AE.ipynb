{
 "cells": [
  {
   "cell_type": "markdown",
   "id": "cbf5fe8b-28b1-45a0-b2dc-d589805dac29",
   "metadata": {},
   "source": [
    "# Lab 2.1: Learning compact representations of single-cell data using AEs"
   ]
  },
  {
   "cell_type": "markdown",
   "id": "47c3a951-c153-4a2a-b8c5-74d1ed3be51a",
   "metadata": {},
   "source": [
    "## Prerequisities\n",
    "\n",
    "We'll use a deep learning framework \"Tensorflow\". Specifically, we'll use version 2.8.0 that can be installed using PyPi (pip) as below:\n",
    "    \n",
    "```bash\n",
    "pip install tensorflow==2.8.0\n",
    "pip install protobuf==3.20.*\n",
    "```\n",
    "\n",
    "The first command install tensorflow and the second command resolves a dependency issue (This tensorflow version has issues with protobuf package >3.20.x\n",
    "Run the thes commands in a new cell of this notebook or open a terminal and run it there. Thereafter restart the notebook to have the package available."
   ]
  },
  {
   "cell_type": "code",
   "execution_count": 1,
   "id": "60cd945e-ee43-4f87-9347-e93e4798f1fa",
   "metadata": {
    "tags": []
   },
   "outputs": [],
   "source": [
    "# import base modules\n",
    "import os\n",
    "import numpy as np\n",
    "import pandas as pd\n",
    "import matplotlib as mpl\n",
    "import matplotlib.pyplot as plt\n",
    "import seaborn as sns"
   ]
  },
  {
   "cell_type": "code",
   "execution_count": 78,
   "id": "7802387f-ddba-4883-90d2-417aae283f2a",
   "metadata": {
    "tags": []
   },
   "outputs": [],
   "source": [
    "sns.set(style=\"ticks\", font_scale=1)"
   ]
  },
  {
   "cell_type": "markdown",
   "id": "0811aabf-2dd9-49f4-912b-9a2dcb3389d4",
   "metadata": {},
   "source": [
    "Same as before: seaborn (works on top of matplotlib) figure styles: [https://seaborn.pydata.org/tutorial/aesthetics.html#seaborn-figure-styles](https://seaborn.pydata.org/tutorial/aesthetics.html#seaborn-figure-styles)"
   ]
  },
  {
   "cell_type": "markdown",
   "id": "3a9b7507-1a35-41cf-99e9-3ed4e12ea9f3",
   "metadata": {},
   "source": [
    "We'll use the same single-cell data \"sun\" as we used yesterday. Let's read and preprocess it the same as before. Here we'll only use standard scaling (z-scores)"
   ]
  },
  {
   "cell_type": "markdown",
   "id": "d735f6b4-944e-4c77-b634-6b3bb9c8985c",
   "metadata": {},
   "source": [
    "## Read in data"
   ]
  },
  {
   "cell_type": "code",
   "execution_count": 2,
   "id": "0911306e-1614-4d16-8114-0413fcab5951",
   "metadata": {
    "tags": []
   },
   "outputs": [],
   "source": [
    "# Sun\n",
    "\n",
    "df = pd.read_parquet(os.path.join(\"../data\", \"sun_counts.pqt\"))\n",
    "df_meta = pd.read_csv(os.path.join(\"../data\", \"sun_meta.csv\"), index_col=0)"
   ]
  },
  {
   "cell_type": "markdown",
   "id": "da170914-df42-4f9a-aa70-8aecc30a5bb7",
   "metadata": {},
   "source": [
    "we don't need metadata here to learn but we'll use cell type labels for visualiazations after building and training our autoencoder."
   ]
  },
  {
   "cell_type": "code",
   "execution_count": 3,
   "id": "0c17c802-3d66-4322-80ba-3d4fcb8092fa",
   "metadata": {
    "tags": []
   },
   "outputs": [
    {
     "name": "stdout",
     "output_type": "stream",
     "text": [
      "count data size: (8829, 10851)\n",
      "metadata size: (8829, 14)\n"
     ]
    }
   ],
   "source": [
    "print(f\"count data size: {df.shape}\")\n",
    "print(f\"metadata size: {df_meta.shape}\")"
   ]
  },
  {
   "cell_type": "markdown",
   "id": "50ef8e34-116f-430f-99af-b8d5cc622715",
   "metadata": {},
   "source": [
    "Same as we saw yesterday, the data is from biological cells. Below is a protocol, same as we saw yesterday, on how this data is generated for a specific technology (10x Chromium)"
   ]
  },
  {
   "cell_type": "markdown",
   "id": "f8f72365-d555-4325-a96c-0332724d9a26",
   "metadata": {},
   "source": [
    "![Single cell RNA sequencing](images/10xschematic.jpg \"protocol\")"
   ]
  },
  {
   "cell_type": "code",
   "execution_count": 4,
   "id": "b5abf9ea-e5e7-4a47-a7f4-5b58cbe342d1",
   "metadata": {
    "tags": []
   },
   "outputs": [],
   "source": [
    "# prepare X and y\n",
    "\n",
    "X = df.copy() # changes made in X won't affect df. For dictionaries, use deepcopy()\n",
    "y = df_meta[\"cell_type\"]"
   ]
  },
  {
   "cell_type": "code",
   "execution_count": 5,
   "id": "3b44e462-e6a4-4afd-a036-0f7eb0c972c6",
   "metadata": {
    "tags": []
   },
   "outputs": [],
   "source": [
    "# domain specific (Make sure each cell has same total RNA)\n",
    "X = X.div(X.sum(1), 0)  # Divide each value in a row by the row sum\n",
    "X = X*1e6 \n",
    "X = np.log2(X+1)"
   ]
  },
  {
   "cell_type": "code",
   "execution_count": 6,
   "id": "54ac58f9-1e33-42cc-b4b0-a4c463d51a79",
   "metadata": {
    "tags": []
   },
   "outputs": [],
   "source": [
    "from sklearn.model_selection import train_test_split"
   ]
  },
  {
   "cell_type": "code",
   "execution_count": 7,
   "id": "9d3f726f-4364-4b42-9a06-528df210b583",
   "metadata": {
    "tags": []
   },
   "outputs": [],
   "source": [
    "# We'll do a 80-20 split\n",
    "train_X, test_X, train_y, test_y = train_test_split(X, y, test_size=0.2, random_state=42)"
   ]
  },
  {
   "cell_type": "markdown",
   "id": "004b2e7d-9366-4443-80ca-9f8c0dd21584",
   "metadata": {},
   "source": [
    "Here we'll learn train data to learn autoencoder embeddings, and we'll use test data to check the model error. We'll visualize the embeddings (codes) of all data together in the end."
   ]
  },
  {
   "cell_type": "markdown",
   "id": "5d4440f2-e0ae-48d8-b6ec-00f920004e33",
   "metadata": {
    "tags": []
   },
   "source": [
    "Since Autoencoder is unsupervised, principles of train and test data are more relaxed. Technically, we do not need a test set, but it is good to check performance on a held-out dataset, i.e. The performance of how accurate the model is representing."
   ]
  },
  {
   "cell_type": "markdown",
   "id": "e184a1c8-f641-4c99-b0f1-3db94f2b25c1",
   "metadata": {
    "tags": []
   },
   "source": [
    "## Preprocessing and QC"
   ]
  },
  {
   "cell_type": "markdown",
   "id": "cfabad3b-5f75-4349-a110-7f2f5b00432f",
   "metadata": {},
   "source": [
    "Before we proceed with building a classifiers, there are some things to keep in mind:\n",
    "    \n",
    "1. There may be poor quality samples that we want to avoid learning from,\n",
    "2. There may be some features that might be redundant, and \n",
    "3. In cases like the one in hand, we have more features than samples (10,851 vs 7,063). Such high dimensional data may be difficult for learners. This refers to \"curse of dimensionality\", especially when the data can not be represented appropriates in 3D physical spaces. For gene expression data, this is the case, however due to biology, several genes are cell type-specific i.e. they are expressed higher in specific cell types. **Domain knowledge helps**!"
   ]
  },
  {
   "cell_type": "markdown",
   "id": "4dbc3617-1678-43ec-b517-bc85d8d50320",
   "metadata": {},
   "source": [
    "### Removing atypical samples"
   ]
  },
  {
   "cell_type": "markdown",
   "id": "aa68f072-fc2c-45d4-928d-ef71d5fcf225",
   "metadata": {},
   "source": [
    "First we will compute total genes expressed per sample"
   ]
  },
  {
   "cell_type": "code",
   "execution_count": 8,
   "id": "1b129d9f-9664-41be-990f-7e880c45bca5",
   "metadata": {
    "tags": []
   },
   "outputs": [],
   "source": [
    "def count_genes(df):\n",
    "    df_bool = df.astype(bool)\n",
    "    exp_genes = df_bool.sum(axis=1)\n",
    "    return exp_genes\n",
    "\n",
    "def count_total_count(df):\n",
    "    sums = df.sum(1)\n",
    "    return sums"
   ]
  },
  {
   "cell_type": "code",
   "execution_count": 9,
   "id": "f476e8c6-4c72-4dd2-909f-43eb1bd3f2ec",
   "metadata": {
    "tags": []
   },
   "outputs": [],
   "source": [
    "gene_counts, total_counts = count_genes(train_X), count_total_count(train_X)"
   ]
  },
  {
   "cell_type": "code",
   "execution_count": 10,
   "id": "27300ff8-9098-444e-9e49-d13ecc027f0b",
   "metadata": {
    "tags": []
   },
   "outputs": [
    {
     "data": {
      "image/png": "[encoded data removed]",
      "text/plain": [
       "<Figure size 1000x300 with 2 Axes>"
      ]
     },
     "metadata": {},
     "output_type": "display_data"
    }
   ],
   "source": [
    "# We can plot these to see if there are some outliers\n",
    "\n",
    "plt.figure(figsize=(10,3))\n",
    "ax = plt.subplot(1,2,1)\n",
    "ax.hist(gene_counts, histtype=\"step\", bins=100)\n",
    "ax.set_title(\"Number of expressed genes per cell\")\n",
    "\n",
    "# We can plot these to see if there are some outliers\n",
    "ax = plt.subplot(1,2,2)\n",
    "plt.hist(total_counts, histtype=\"step\", bins=100)\n",
    "plt.title(\"Total counts per cell\")\n",
    "plt.show()"
   ]
  },
  {
   "cell_type": "markdown",
   "id": "f841990f-2f35-4326-8b3f-d31592bcfa8b",
   "metadata": {},
   "source": [
    "<ins>Note</ins>: The choice of how to select outliers is mostly domain specific. In clinical data, it maybe \"exceptionally atypical measurements\", in financial data, it may be a specific month (April saw a reducing in US financial debt, so can't rely observations during that time, unless of course if that is your target. In cases, where such information is not possible, dedicated outlier detection methods can be utilized. [https://scikit-learn.org/stable/modules/outlier_detection.html](https://scikit-learn.org/stable/modules/outlier_detection.html)"
   ]
  },
  {
   "cell_type": "markdown",
   "id": "b93fbb38-55b5-4ce9-99b2-54f00562a39a",
   "metadata": {},
   "source": [
    "From our training data, we will keep cells with total expressed genes between 500 and 2000 and remove total genes per cell over 7500."
   ]
  },
  {
   "cell_type": "code",
   "execution_count": 11,
   "id": "3ec6629a-f891-4090-a1c2-915dbf860ac7",
   "metadata": {
    "tags": []
   },
   "outputs": [],
   "source": [
    "gene_min, gene_max = 500, 2000\n",
    "count_max = 7500"
   ]
  },
  {
   "cell_type": "code",
   "execution_count": 12,
   "id": "50929a29-ccf7-43b4-9091-79f4326f5a8d",
   "metadata": {
    "tags": []
   },
   "outputs": [],
   "source": [
    "idxs_rm = []\n",
    "idxs_rm = gene_counts[(gene_counts<gene_min)&(gene_counts>gene_max)].index.tolist()\n",
    "idxs_rm = idxs_rm + total_counts[total_counts>count_max].index.tolist()"
   ]
  },
  {
   "cell_type": "code",
   "execution_count": 13,
   "id": "705e8ffc-5598-4117-b71e-17843e0252d0",
   "metadata": {
    "tags": []
   },
   "outputs": [
    {
     "name": "stdout",
     "output_type": "stream",
     "text": [
      "5437\n"
     ]
    }
   ],
   "source": [
    "print(len(idxs_rm))"
   ]
  },
  {
   "cell_type": "code",
   "execution_count": 14,
   "id": "955cfaa7-bb4f-4416-9d25-6f6aea87f257",
   "metadata": {
    "tags": []
   },
   "outputs": [],
   "source": [
    "train_X, train_y = train_X.drop(idxs_rm), train_y.drop(idxs_rm)"
   ]
  },
  {
   "cell_type": "markdown",
   "id": "d6f545d4-c020-48cf-bbe6-9fa93729d185",
   "metadata": {},
   "source": [
    "## Normalization"
   ]
  },
  {
   "cell_type": "markdown",
   "id": "b1cc551d-5392-4157-af50-ca35a6c81d5f",
   "metadata": {},
   "source": [
    "We'll do standard scaling here."
   ]
  },
  {
   "cell_type": "code",
   "execution_count": 15,
   "id": "316b08b4-9fb8-4e9a-be0b-169589d5a4ae",
   "metadata": {
    "tags": []
   },
   "outputs": [],
   "source": [
    "# Here we'll generate three scalings and store data \n",
    "\n",
    "from sklearn.preprocessing import MinMaxScaler\n",
    "minmaxscaler = MinMaxScaler()\n",
    "minmaxscaler.fit(train_X)\n",
    "\n",
    "train_X_minmax = minmaxscaler.transform(train_X)\n",
    "train_X_minmax = pd.DataFrame(train_X_minmax, columns=train_X.columns, index=train_X.index)\n",
    "\n",
    "test_X_minmax = minmaxscaler.transform(test_X) "
   ]
  },
  {
   "cell_type": "markdown",
   "id": "965150ac-7431-403f-a974-db9583cfc234",
   "metadata": {},
   "source": [
    "This normalizes counts such that each cell's total count sums to 1 million and take log2 of it. Computing log2 makes really high gene expressions to be comparable to others. It's a lightweight way of mitigating gene expression disparity. \\\n",
    "Further, it \"approximates\" a normal distribution (a nice property of have). \\\n",
    "In single-cell RNA data, \"approximates\" doesn't usually occur due to high sparsity i.e. many features are 0's (check with (train_X==0).sum()). This is not a settled issue. Several different approaches are possible and the science is not settled. Some normalizations are discussed in this review: [https://link.springer.com/article/10.1186/s12864-024-10364-5](https://link.springer.com/article/10.1186/s12864-024-10364-5)"
   ]
  },
  {
   "cell_type": "code",
   "execution_count": 16,
   "id": "698d8e04-62a0-4e74-8fb4-79dc1aad23de",
   "metadata": {
    "tags": []
   },
   "outputs": [
    {
     "name": "stderr",
     "output_type": "stream",
     "text": [
      "2024-05-28 12:52:09.386086: W tensorflow/stream_executor/platform/default/dso_loader.cc:64] Could not load dynamic library 'libcudart.so.11.0'; dlerror: libcudart.so.11.0: cannot open shared object file: No such file or directory\n",
      "2024-05-28 12:52:09.386116: I tensorflow/stream_executor/cuda/cudart_stub.cc:29] Ignore above cudart dlerror if you do not have a GPU set up on your machine.\n"
     ]
    }
   ],
   "source": [
    "import tensorflow as tf"
   ]
  },
  {
   "cell_type": "markdown",
   "id": "618afe7f-be1b-410f-93c2-c7af7899ea0a",
   "metadata": {},
   "source": [
    "We'll build autoencoder, that is composed of following subnetworks:"
   ]
  },
  {
   "cell_type": "markdown",
   "id": "3c262cf6-744d-4bed-a6b7-f702247b0dd1",
   "metadata": {},
   "source": [
    "| Component | Layer dimension | \n",
    "| --- | --- | \n",
    "| Encoder | [256, 128] | \n",
    "| Decoder | [128, 256] | "
   ]
  },
  {
   "cell_type": "markdown",
   "id": "e9519d0a-505c-49a3-9a60-aa3c4924c692",
   "metadata": {},
   "source": [
    "Bottleneck (code) size: 64 \\\n",
    "Learning rate: 1e-4 (0.0001) \\\n",
    "batch_size: 128 \\\n",
    "Optimizer: Adam (https://www.tensorflow.org/api_docs/python/tf/keras/optimizers/Adam) "
   ]
  },
  {
   "cell_type": "markdown",
   "id": "704b27d3-6f70-4f47-847d-7b7a8b220d76",
   "metadata": {},
   "source": [
    "# Build model"
   ]
  },
  {
   "cell_type": "code",
   "execution_count": 17,
   "id": "180e75ae-6068-45ca-91bb-ea3a1f33dd6d",
   "metadata": {
    "tags": []
   },
   "outputs": [],
   "source": [
    "from tensorflow.keras.models import Model # Combines layers into a single model, https://www.tensorflow.org/api_docs/python/tf/keras/Model\n",
    "from tensorflow.keras.layers import Input, Dense # Dense layer is a fully connected layer, Input layer forms a desired shaped input, \n",
    "# https://www.tensorflow.org/api_docs/python/tf/keras/layers"
   ]
  },
  {
   "cell_type": "code",
   "execution_count": 28,
   "id": "98541bd1-8ef4-4ca6-a374-7f9395d7412d",
   "metadata": {
    "tags": []
   },
   "outputs": [],
   "source": [
    "activation_func = \"linear\"\n",
    "out_activation_func = \"sigmoid\""
   ]
  },
  {
   "cell_type": "code",
   "execution_count": 29,
   "id": "9ba62e4d-795f-4635-9b20-98e9ba0bec91",
   "metadata": {
    "tags": []
   },
   "outputs": [],
   "source": [
    "# definte input dimension\n",
    "input_shape = train_X_minmax.shape[1]\n",
    "\n",
    "# Input layer\n",
    "input_layer = Input(shape=(input_shape,))\n",
    "\n",
    "# Encoder\n",
    "encoded = Dense(256, activation=activation_func)(input_layer)\n",
    "encoded = Dense(128, activation=activation_func)(encoded)\n",
    "\n",
    "# Bottleneck\n",
    "bottleneck = Dense(32, activation='linear')(encoded)\n",
    "\n",
    "# Decoder\n",
    "decoded = Dense(128, activation=activation_func)(bottleneck)\n",
    "decoded = Dense(256, activation=activation_func)(decoded)\n",
    "\n",
    "# Output layer\n",
    "output_layer = Dense(input_shape, activation=out_activation_func)(decoded)"
   ]
  },
  {
   "cell_type": "code",
   "execution_count": 30,
   "id": "d9c2b29e-4cbe-4f15-8fed-913ea3e5bbb7",
   "metadata": {
    "tags": []
   },
   "outputs": [],
   "source": [
    "# Put everything in a model. It under the hood, creates a graph from input to output with all intermediate components\n",
    "autoencoder = Model(inputs=input_layer, outputs=output_layer)\n"
   ]
  },
  {
   "cell_type": "markdown",
   "id": "87ac9c0b-e082-4a7c-8bdb-7452c62319f1",
   "metadata": {},
   "source": [
    "# Show network"
   ]
  },
  {
   "cell_type": "code",
   "execution_count": 31,
   "id": "6915463f-e636-4aee-9fa0-9fcec784a7f2",
   "metadata": {
    "tags": []
   },
   "outputs": [
    {
     "name": "stdout",
     "output_type": "stream",
     "text": [
      "Model: \"model_1\"\n",
      "_________________________________________________________________\n",
      " Layer (type)                Output Shape              Param #   \n",
      "=================================================================\n",
      " input_2 (InputLayer)        [(None, 10851)]           0         \n",
      "                                                                 \n",
      " dense_6 (Dense)             (None, 256)               2778112   \n",
      "                                                                 \n",
      " dense_7 (Dense)             (None, 128)               32896     \n",
      "                                                                 \n",
      " dense_8 (Dense)             (None, 32)                4128      \n",
      "                                                                 \n",
      " dense_9 (Dense)             (None, 128)               4224      \n",
      "                                                                 \n",
      " dense_10 (Dense)            (None, 256)               33024     \n",
      "                                                                 \n",
      " dense_11 (Dense)            (None, 10851)             2788707   \n",
      "                                                                 \n",
      "=================================================================\n",
      "Total params: 5,641,091\n",
      "Trainable params: 5,641,091\n",
      "Non-trainable params: 0\n",
      "_________________________________________________________________\n"
     ]
    }
   ],
   "source": [
    "autoencoder.summary()"
   ]
  },
  {
   "cell_type": "markdown",
   "id": "bcc695cf-a222-459f-ad3d-84783ebeea87",
   "metadata": {},
   "source": [
    "## Training"
   ]
  },
  {
   "cell_type": "code",
   "execution_count": 55,
   "id": "5ecedd94-4e87-44ba-8185-541f81360b83",
   "metadata": {
    "tags": []
   },
   "outputs": [],
   "source": [
    "## configure the network\n",
    "learning_rate = 1e-5\n",
    "loss_function = \"mean_squared_error\""
   ]
  },
  {
   "cell_type": "markdown",
   "id": "5551e21b-d8d3-49d3-a169-06873317480d",
   "metadata": {},
   "source": [
    "Choice of loss function depends on the task. For regression mean squared error, root mean squared error etc. are the general choice. Loss functions available as part of tensorflow are here: https://www.tensorflow.org/api_docs/python/tf/keras/losses\n",
    "\n",
    "You can also write your own loss function if you are more familiar with tensorflow and deep learning."
   ]
  },
  {
   "cell_type": "code",
   "execution_count": 56,
   "id": "f2be2701-18aa-4b47-9d47-5ccd42aded60",
   "metadata": {
    "tags": []
   },
   "outputs": [],
   "source": [
    "## Compile the model (It puts the graph ready to compute - i.e. configure the model and optimizer\n",
    "\n",
    "optimizer = tf.keras.optimizers.Adam(learning_rate=learning_rate)\n",
    "autoencoder.compile(optimizer=optimizer, loss=loss_function)"
   ]
  },
  {
   "cell_type": "markdown",
   "id": "5d2058a2-d041-4aac-afe6-1d55304b8555",
   "metadata": {},
   "source": [
    "if we want to use default settings, the above command can be written as:\n",
    "```python\n",
    "autoencoder.compile(optimizer=\"SGD\",  loss='mean_squared_error')\n",
    "```"
   ]
  },
  {
   "cell_type": "code",
   "execution_count": 57,
   "id": "adcbccd2-9e6c-44cc-9d1f-7dad4300886a",
   "metadata": {
    "tags": []
   },
   "outputs": [],
   "source": [
    "# Training hyperparameters\n",
    "batch_size=128\n",
    "epochs = 50 # Number of times entire data passes (both forward and backward) the network\n",
    "validation_split_size = 0.2 # creates a validation set of this much data from train_X to evaluate on"
   ]
  },
  {
   "cell_type": "code",
   "execution_count": 58,
   "id": "1705dc19-2cfd-4f43-a601-fddf7c5c1ddc",
   "metadata": {
    "tags": []
   },
   "outputs": [
    {
     "name": "stdout",
     "output_type": "stream",
     "text": [
      "Epoch 1/50\n",
      "11/11 - 1s - loss: 0.0303 - val_loss: 0.0310 - 572ms/epoch - 52ms/step\n",
      "Epoch 2/50\n",
      "11/11 - 0s - loss: 0.0303 - val_loss: 0.0310 - 189ms/epoch - 17ms/step\n",
      "Epoch 3/50\n",
      "11/11 - 0s - loss: 0.0302 - val_loss: 0.0309 - 179ms/epoch - 16ms/step\n",
      "Epoch 4/50\n",
      "11/11 - 0s - loss: 0.0302 - val_loss: 0.0309 - 169ms/epoch - 15ms/step\n",
      "Epoch 5/50\n",
      "11/11 - 0s - loss: 0.0301 - val_loss: 0.0309 - 186ms/epoch - 17ms/step\n",
      "Epoch 6/50\n",
      "11/11 - 0s - loss: 0.0301 - val_loss: 0.0309 - 175ms/epoch - 16ms/step\n",
      "Epoch 7/50\n",
      "11/11 - 0s - loss: 0.0301 - val_loss: 0.0308 - 170ms/epoch - 15ms/step\n",
      "Epoch 8/50\n",
      "11/11 - 0s - loss: 0.0301 - val_loss: 0.0308 - 176ms/epoch - 16ms/step\n",
      "Epoch 9/50\n",
      "11/11 - 0s - loss: 0.0301 - val_loss: 0.0308 - 169ms/epoch - 15ms/step\n",
      "Epoch 10/50\n",
      "11/11 - 0s - loss: 0.0301 - val_loss: 0.0308 - 196ms/epoch - 18ms/step\n",
      "Epoch 11/50\n",
      "11/11 - 0s - loss: 0.0300 - val_loss: 0.0308 - 196ms/epoch - 18ms/step\n",
      "Epoch 12/50\n",
      "11/11 - 0s - loss: 0.0300 - val_loss: 0.0308 - 188ms/epoch - 17ms/step\n",
      "Epoch 13/50\n",
      "11/11 - 0s - loss: 0.0300 - val_loss: 0.0308 - 183ms/epoch - 17ms/step\n",
      "Epoch 14/50\n",
      "11/11 - 0s - loss: 0.0300 - val_loss: 0.0308 - 184ms/epoch - 17ms/step\n",
      "Epoch 15/50\n",
      "11/11 - 0s - loss: 0.0300 - val_loss: 0.0307 - 177ms/epoch - 16ms/step\n",
      "Epoch 16/50\n",
      "11/11 - 0s - loss: 0.0300 - val_loss: 0.0307 - 185ms/epoch - 17ms/step\n",
      "Epoch 17/50\n",
      "11/11 - 0s - loss: 0.0300 - val_loss: 0.0307 - 179ms/epoch - 16ms/step\n",
      "Epoch 18/50\n",
      "11/11 - 0s - loss: 0.0300 - val_loss: 0.0307 - 176ms/epoch - 16ms/step\n",
      "Epoch 19/50\n",
      "11/11 - 0s - loss: 0.0300 - val_loss: 0.0307 - 169ms/epoch - 15ms/step\n",
      "Epoch 20/50\n",
      "11/11 - 0s - loss: 0.0299 - val_loss: 0.0307 - 170ms/epoch - 15ms/step\n",
      "Epoch 21/50\n",
      "11/11 - 0s - loss: 0.0299 - val_loss: 0.0307 - 200ms/epoch - 18ms/step\n",
      "Epoch 22/50\n",
      "11/11 - 0s - loss: 0.0299 - val_loss: 0.0307 - 171ms/epoch - 16ms/step\n",
      "Epoch 23/50\n",
      "11/11 - 0s - loss: 0.0299 - val_loss: 0.0307 - 175ms/epoch - 16ms/step\n",
      "Epoch 24/50\n",
      "11/11 - 0s - loss: 0.0299 - val_loss: 0.0307 - 177ms/epoch - 16ms/step\n",
      "Epoch 25/50\n",
      "11/11 - 0s - loss: 0.0299 - val_loss: 0.0307 - 190ms/epoch - 17ms/step\n",
      "Epoch 26/50\n",
      "11/11 - 0s - loss: 0.0299 - val_loss: 0.0307 - 172ms/epoch - 16ms/step\n",
      "Epoch 27/50\n",
      "11/11 - 0s - loss: 0.0299 - val_loss: 0.0307 - 174ms/epoch - 16ms/step\n",
      "Epoch 28/50\n",
      "11/11 - 0s - loss: 0.0299 - val_loss: 0.0307 - 177ms/epoch - 16ms/step\n",
      "Epoch 29/50\n",
      "11/11 - 0s - loss: 0.0299 - val_loss: 0.0307 - 161ms/epoch - 15ms/step\n",
      "Epoch 30/50\n",
      "11/11 - 0s - loss: 0.0299 - val_loss: 0.0307 - 159ms/epoch - 14ms/step\n",
      "Epoch 31/50\n",
      "11/11 - 0s - loss: 0.0299 - val_loss: 0.0307 - 162ms/epoch - 15ms/step\n",
      "Epoch 32/50\n",
      "11/11 - 0s - loss: 0.0298 - val_loss: 0.0306 - 174ms/epoch - 16ms/step\n",
      "Epoch 33/50\n",
      "11/11 - 0s - loss: 0.0298 - val_loss: 0.0306 - 179ms/epoch - 16ms/step\n",
      "Epoch 34/50\n",
      "11/11 - 0s - loss: 0.0298 - val_loss: 0.0306 - 170ms/epoch - 15ms/step\n",
      "Epoch 35/50\n",
      "11/11 - 0s - loss: 0.0298 - val_loss: 0.0306 - 163ms/epoch - 15ms/step\n",
      "Epoch 36/50\n",
      "11/11 - 0s - loss: 0.0298 - val_loss: 0.0306 - 172ms/epoch - 16ms/step\n",
      "Epoch 37/50\n",
      "11/11 - 0s - loss: 0.0298 - val_loss: 0.0306 - 161ms/epoch - 15ms/step\n",
      "Epoch 38/50\n",
      "11/11 - 0s - loss: 0.0298 - val_loss: 0.0306 - 157ms/epoch - 14ms/step\n",
      "Epoch 39/50\n",
      "11/11 - 0s - loss: 0.0298 - val_loss: 0.0306 - 172ms/epoch - 16ms/step\n",
      "Epoch 40/50\n",
      "11/11 - 0s - loss: 0.0298 - val_loss: 0.0306 - 160ms/epoch - 15ms/step\n",
      "Epoch 41/50\n",
      "11/11 - 0s - loss: 0.0298 - val_loss: 0.0306 - 165ms/epoch - 15ms/step\n",
      "Epoch 42/50\n",
      "11/11 - 0s - loss: 0.0298 - val_loss: 0.0306 - 163ms/epoch - 15ms/step\n",
      "Epoch 43/50\n",
      "11/11 - 0s - loss: 0.0298 - val_loss: 0.0306 - 146ms/epoch - 13ms/step\n",
      "Epoch 44/50\n",
      "11/11 - 0s - loss: 0.0297 - val_loss: 0.0306 - 157ms/epoch - 14ms/step\n",
      "Epoch 45/50\n",
      "11/11 - 0s - loss: 0.0297 - val_loss: 0.0306 - 168ms/epoch - 15ms/step\n",
      "Epoch 46/50\n",
      "11/11 - 0s - loss: 0.0297 - val_loss: 0.0306 - 180ms/epoch - 16ms/step\n",
      "Epoch 47/50\n",
      "11/11 - 0s - loss: 0.0297 - val_loss: 0.0306 - 164ms/epoch - 15ms/step\n",
      "Epoch 48/50\n",
      "11/11 - 0s - loss: 0.0297 - val_loss: 0.0306 - 179ms/epoch - 16ms/step\n",
      "Epoch 49/50\n",
      "11/11 - 0s - loss: 0.0297 - val_loss: 0.0305 - 183ms/epoch - 17ms/step\n",
      "Epoch 50/50\n",
      "11/11 - 0s - loss: 0.0297 - val_loss: 0.0305 - 197ms/epoch - 18ms/step\n"
     ]
    },
    {
     "data": {
      "text/plain": [
       "<keras.callbacks.History at 0x7fd0d5b0b760>"
      ]
     },
     "execution_count": 58,
     "metadata": {},
     "output_type": "execute_result"
    }
   ],
   "source": [
    "# Train the autoencoder\n",
    "autoencoder.fit(train_X_minmax, train_X_minmax, epochs=epochs, batch_size=batch_size, shuffle=True, validation_split=validation_split_size, verbose=2)"
   ]
  },
  {
   "cell_type": "markdown",
   "id": "241f7e84-f84b-4fd3-9fbb-c1db29f04b73",
   "metadata": {
    "tags": []
   },
   "source": [
    "Shuffle shuffles samples in the input before each epoch."
   ]
  },
  {
   "cell_type": "markdown",
   "id": "4a9de346-e3be-4bdd-8f5c-8812b058df71",
   "metadata": {
    "tags": []
   },
   "source": [
    "## save the model"
   ]
  },
  {
   "cell_type": "code",
   "execution_count": 61,
   "id": "293d06d7-34e0-49c6-a21b-43609ec62d3d",
   "metadata": {
    "tags": []
   },
   "outputs": [],
   "source": [
    "models_dir = \"models\"\n",
    "\n",
    "if not os.path.exists(models_dir):\n",
    "    os.mkdir(models_dir)"
   ]
  },
  {
   "cell_type": "code",
   "execution_count": 63,
   "id": "d7d42889-0675-420b-83dc-96fee226acc9",
   "metadata": {
    "tags": []
   },
   "outputs": [],
   "source": [
    "autoencoder.save(os.path.join(models_dir, \"autoencoder_minmax_default.h5\"))"
   ]
  },
  {
   "cell_type": "code",
   "execution_count": 65,
   "id": "4deccbca-7ed2-4160-b91a-2b2bf21347a9",
   "metadata": {
    "tags": []
   },
   "outputs": [],
   "source": [
    "## Model can be loaded with load_model function from tf models\n",
    "from tensorflow.keras.models import load_model\n",
    "\n",
    "autoencoder = load_model(os.path.join(models_dir, \"autoencoder_minmax_default.h5\"))\n"
   ]
  },
  {
   "cell_type": "markdown",
   "id": "542566ef-fae0-420d-81a1-56035ee023bc",
   "metadata": {
    "tags": []
   },
   "source": [
    "We'll need the access to encoder outputs to get the bottleneck. However, our model (autoencoder)'s predict will give the output of last layer. But we can re-use the layers from autoencoder to build another model. The layer weights are automatically shared.\n",
    "\n",
    "\n"
   ]
  },
  {
   "cell_type": "code",
   "execution_count": 73,
   "id": "54d92583-31a8-4a90-8764-6cff39b1e28a",
   "metadata": {
    "tags": []
   },
   "outputs": [],
   "source": [
    "encoder = Model(inputs=input_layer, outputs=bottleneck) # seperate encoder\n",
    "encoded_input = Input(shape=(32,))\n",
    "decoder_layer1 = autoencoder.layers[-3](encoded_input)\n",
    "decoder_layer2 = autoencoder.layers[-2](decoder_layer1)\n",
    "decoder_output = autoencoder.layers[-1](decoder_layer2)\n",
    "decoder = Model(inputs=encoded_input, outputs=decoder_output) # seperate decoder"
   ]
  },
  {
   "cell_type": "markdown",
   "id": "bb3ed911-dcfc-4d62-b43f-cbae44085483",
   "metadata": {},
   "source": [
    "## Get bottleneck representation (code)"
   ]
  },
  {
   "cell_type": "code",
   "execution_count": 98,
   "id": "183e9668-dcea-4f9a-bd34-18cb7fc5626b",
   "metadata": {
    "tags": []
   },
   "outputs": [
    {
     "name": "stdout",
     "output_type": "stream",
     "text": [
      "(1626, 32)\n"
     ]
    }
   ],
   "source": [
    "reps = encoder.predict(train_X_minmax)\n",
    "print(reps.shape)"
   ]
  },
  {
   "cell_type": "code",
   "execution_count": 99,
   "id": "79744040-0f96-433d-85be-4f505de2bda2",
   "metadata": {
    "tags": []
   },
   "outputs": [],
   "source": [
    "## compute PCA with 2 components\n",
    "from sklearn.decomposition import PCA\n",
    "\n",
    "pca = PCA(2)\n",
    "transformed = pca.fit_transform(reps)"
   ]
  },
  {
   "cell_type": "code",
   "execution_count": 100,
   "id": "ec0aec5f-f8ce-4fb7-bb35-a2ff78e4d136",
   "metadata": {
    "tags": []
   },
   "outputs": [
    {
     "data": {
      "text/plain": [
       "index\n",
       "GACGCGTAGTTATCGC-1-Sun_sample4_TC                  B\n",
       "GGCTGGTGTTGTACAC-1-Sun_sample4_TC       CD4+ T cells\n",
       "TTCGAAGAGTACTTGC-1-Sun_sample4_TC       CD8+ T cells\n",
       "TCTCTAAGTCTAGTGT-1-Sun_sample4_TC       CD4+ T cells\n",
       "CAACCTCAGTCGATAA-1-Sun_sample4_TC       CD4+ T cells\n",
       "                                          ...       \n",
       "TCAGCTCTCTGCCCTA-1-Sun_sample4_TC                  B\n",
       "TGGCGCAGTGACTCAT-1-Sun_sample4_TC       CD4+ T cells\n",
       "ATTGGTGAGTTCGATC-1-Sun_sample4_TC       CD4+ T cells\n",
       "TACGGGCGTTCGCTAA-1-Sun_sample4_TC    CD14+ Monocytes\n",
       "GTCAAGTTCCTTGCCA-1-Sun_sample3_TB       CD8+ T cells\n",
       "Name: cell_type, Length: 1626, dtype: object"
      ]
     },
     "execution_count": 100,
     "metadata": {},
     "output_type": "execute_result"
    }
   ],
   "source": [
    "train_y"
   ]
  },
  {
   "cell_type": "code",
   "execution_count": 101,
   "id": "e13e23ce-a502-4bf1-8afb-84369e4d8021",
   "metadata": {
    "tags": []
   },
   "outputs": [],
   "source": [
    "pca_df = pd.DataFrame(transformed, index=train_X.index, columns=[\"PC1\", \"PC2\"])\n",
    "pca_df[\"cell_type\"] = train_y.to_numpy()"
   ]
  },
  {
   "cell_type": "code",
   "execution_count": 102,
   "id": "7142cac7-4899-464a-90b0-cee827471251",
   "metadata": {
    "tags": []
   },
   "outputs": [
    {
     "data": {
      "text/html": [
       "<div>\n",
       "<style scoped>\n",
       "    .dataframe tbody tr th:only-of-type {\n",
       "        vertical-align: middle;\n",
       "    }\n",
       "\n",
       "    .dataframe tbody tr th {\n",
       "        vertical-align: top;\n",
       "    }\n",
       "\n",
       "    .dataframe thead th {\n",
       "        text-align: right;\n",
       "    }\n",
       "</style>\n",
       "<table border=\"1\" class=\"dataframe\">\n",
       "  <thead>\n",
       "    <tr style=\"text-align: right;\">\n",
       "      <th></th>\n",
       "      <th>PC1</th>\n",
       "      <th>PC2</th>\n",
       "      <th>cell_type</th>\n",
       "    </tr>\n",
       "    <tr>\n",
       "      <th>index</th>\n",
       "      <th></th>\n",
       "      <th></th>\n",
       "      <th></th>\n",
       "    </tr>\n",
       "  </thead>\n",
       "  <tbody>\n",
       "    <tr>\n",
       "      <th>GACGCGTAGTTATCGC-1-Sun_sample4_TC</th>\n",
       "      <td>1.299346</td>\n",
       "      <td>0.820091</td>\n",
       "      <td>B</td>\n",
       "    </tr>\n",
       "    <tr>\n",
       "      <th>GGCTGGTGTTGTACAC-1-Sun_sample4_TC</th>\n",
       "      <td>-4.889173</td>\n",
       "      <td>-2.020645</td>\n",
       "      <td>CD4+ T cells</td>\n",
       "    </tr>\n",
       "    <tr>\n",
       "      <th>TTCGAAGAGTACTTGC-1-Sun_sample4_TC</th>\n",
       "      <td>-3.407486</td>\n",
       "      <td>-1.745196</td>\n",
       "      <td>CD8+ T cells</td>\n",
       "    </tr>\n",
       "    <tr>\n",
       "      <th>TCTCTAAGTCTAGTGT-1-Sun_sample4_TC</th>\n",
       "      <td>-2.090809</td>\n",
       "      <td>-1.676975</td>\n",
       "      <td>CD4+ T cells</td>\n",
       "    </tr>\n",
       "    <tr>\n",
       "      <th>CAACCTCAGTCGATAA-1-Sun_sample4_TC</th>\n",
       "      <td>-1.880180</td>\n",
       "      <td>-1.174754</td>\n",
       "      <td>CD4+ T cells</td>\n",
       "    </tr>\n",
       "  </tbody>\n",
       "</table>\n",
       "</div>"
      ],
      "text/plain": [
       "                                        PC1       PC2     cell_type\n",
       "index                                                              \n",
       "GACGCGTAGTTATCGC-1-Sun_sample4_TC  1.299346  0.820091             B\n",
       "GGCTGGTGTTGTACAC-1-Sun_sample4_TC -4.889173 -2.020645  CD4+ T cells\n",
       "TTCGAAGAGTACTTGC-1-Sun_sample4_TC -3.407486 -1.745196  CD8+ T cells\n",
       "TCTCTAAGTCTAGTGT-1-Sun_sample4_TC -2.090809 -1.676975  CD4+ T cells\n",
       "CAACCTCAGTCGATAA-1-Sun_sample4_TC -1.880180 -1.174754  CD4+ T cells"
      ]
     },
     "execution_count": 102,
     "metadata": {},
     "output_type": "execute_result"
    }
   ],
   "source": [
    "pca_df.head()"
   ]
  },
  {
   "cell_type": "code",
   "execution_count": 103,
   "id": "c05ee38a-34a3-46da-8317-838680453052",
   "metadata": {
    "tags": []
   },
   "outputs": [
    {
     "name": "stderr",
     "output_type": "stream",
     "text": [
      "/opt/conda/lib/python3.10/site-packages/seaborn/_oldcore.py:1498: FutureWarning: is_categorical_dtype is deprecated and will be removed in a future version. Use isinstance(dtype, CategoricalDtype) instead\n",
      "  if pd.api.types.is_categorical_dtype(vector):\n",
      "/opt/conda/lib/python3.10/site-packages/seaborn/_oldcore.py:1498: FutureWarning: is_categorical_dtype is deprecated and will be removed in a future version. Use isinstance(dtype, CategoricalDtype) instead\n",
      "  if pd.api.types.is_categorical_dtype(vector):\n",
      "/opt/conda/lib/python3.10/site-packages/seaborn/_oldcore.py:1498: FutureWarning: is_categorical_dtype is deprecated and will be removed in a future version. Use isinstance(dtype, CategoricalDtype) instead\n",
      "  if pd.api.types.is_categorical_dtype(vector):\n",
      "/opt/conda/lib/python3.10/site-packages/seaborn/_oldcore.py:1498: FutureWarning: is_categorical_dtype is deprecated and will be removed in a future version. Use isinstance(dtype, CategoricalDtype) instead\n",
      "  if pd.api.types.is_categorical_dtype(vector):\n",
      "/opt/conda/lib/python3.10/site-packages/seaborn/_oldcore.py:1498: FutureWarning: is_categorical_dtype is deprecated and will be removed in a future version. Use isinstance(dtype, CategoricalDtype) instead\n",
      "  if pd.api.types.is_categorical_dtype(vector):\n"
     ]
    },
    {
     "data": {
      "text/plain": [
       "<matplotlib.legend.Legend at 0x7fcfb81307f0>"
      ]
     },
     "execution_count": 103,
     "metadata": {},
     "output_type": "execute_result"
    },
    {
     "data": {
      "image/png": "[encoded data removed]",
      "text/plain": [
       "<Figure size 500x500 with 1 Axes>"
      ]
     },
     "metadata": {},
     "output_type": "display_data"
    }
   ],
   "source": [
    "plt.figure(figsize=(5,5))\n",
    "scatter = sns.scatterplot(data=pca_df, x='PC1', y='PC2', hue='cell_type', palette='colorblind', s=10, legend='full')\n",
    "# move legend outside the plot so that it doesn't overlay on the data points\n",
    "plt.legend(bbox_to_anchor=(1,1))"
   ]
  },
  {
   "cell_type": "markdown",
   "id": "9b8c019d-c11f-4b4d-9eac-016d20415400",
   "metadata": {
    "tags": []
   },
   "source": [
    "As you can see, there seems to be some seperation of classes in the bottleneck layer."
   ]
  },
  {
   "cell_type": "markdown",
   "id": "1d16e9f1-5015-4e6b-aa39-debda357a234",
   "metadata": {},
   "source": [
    "## Tasks"
   ]
  },
  {
   "cell_type": "markdown",
   "id": "ab9dbd51-1b62-42b3-b54c-b0bf7819adbf",
   "metadata": {},
   "source": [
    "1. Get the bottleneck codes for the test set and compute the PCA\n",
    "2. Compute the mean squared error for the test set reconstruction (<ins>Hint</ins>: Representations are the decoder outputs.)\n",
    "3. Find features where the mean squared error is the highest for the test set reconstruction"
   ]
  }
 ],
 "metadata": {
  "kernelspec": {
   "display_name": "Python 3 (ipykernel)",
   "language": "python",
   "name": "python3"
  },
  "language_info": {
   "codemirror_mode": {
    "name": "ipython",
    "version": 3
   },
   "file_extension": ".py",
   "mimetype": "text/x-python",
   "name": "python",
   "nbconvert_exporter": "python",
   "pygments_lexer": "ipython3",
   "version": "3.10.10"
  }
 },
 "nbformat": 4,
 "nbformat_minor": 5
}
