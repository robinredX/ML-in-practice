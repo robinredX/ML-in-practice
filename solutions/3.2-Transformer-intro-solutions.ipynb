{
 "cells": [
  {
   "cell_type": "markdown",
   "metadata": {},
   "source": [
    "## Import packages"
   ]
  },
  {
   "cell_type": "code",
   "execution_count": 1,
   "metadata": {},
   "outputs": [],
   "source": [
    "import math\n",
    "import numpy as np\n",
    "import torch\n",
    "import torch.nn as nn\n",
    "import torch.nn.functional as F\n",
    "from torchvision import datasets, transforms\n",
    "from torch.utils.data import DataLoader, Dataset\n",
    "import matplotlib.pyplot as plt"
   ]
  },
  {
   "cell_type": "markdown",
   "metadata": {},
   "source": [
    "## Task 1: implement Multi Head Attention"
   ]
  },
  {
   "cell_type": "markdown",
   "metadata": {},
   "source": [
    "![Multi Head Attention](../labs/images/multi-head-attention.png)"
   ]
  },
  {
   "cell_type": "code",
   "execution_count": 2,
   "metadata": {},
   "outputs": [],
   "source": [
    "class MultiHeadAttention(nn.Module):\n",
    "    \"\"\"\n",
    "    Multi-Head Attention module.\n",
    "\n",
    "    This module performs multi-head attention on the input tensor `x`. It applies linear transformations\n",
    "    to the input tensor to obtain query, key, and value tensors. Then, it calculates attention weights\n",
    "    and applies attention to the value tensor. Finally, it applies another linear transformation to\n",
    "    obtain the output tensor.\n",
    "\n",
    "    Args:\n",
    "        in_channels (int): Number of input channels.\n",
    "        hidden_channels (int): Number of hidden channels.\n",
    "        num_heads (int): Number of attention heads.\n",
    "        out_channels (int, optional): Number of output channels. If not provided, it is set to `in_channels`.\n",
    "        bias (bool, optional): Whether to include bias in linear transformations. Default is False.\n",
    "\n",
    "    Returns:\n",
    "        torch.Tensor: Output tensor of shape (batch_size, seq_len, in_channels).\n",
    "\n",
    "    \"\"\"\n",
    "\n",
    "    def __init__(\n",
    "        self, in_channels, hidden_channels, num_heads, out_channels=None, bias=False\n",
    "    ):\n",
    "        super(MultiHeadAttention, self).__init__()\n",
    "        self.num_heads = num_heads\n",
    "        self.hidden_channels = hidden_channels\n",
    "        self.in_channels = in_channels\n",
    "\n",
    "        self.W_q = nn.Linear(in_channels, num_heads * hidden_channels, bias=bias)\n",
    "        self.W_k = nn.Linear(in_channels, num_heads * hidden_channels, bias=bias)\n",
    "        self.W_v = nn.Linear(in_channels, num_heads * hidden_channels, bias=bias)\n",
    "        self.W_o = nn.Linear(\n",
    "            num_heads * hidden_channels,\n",
    "            in_channels if out_channels is None else out_channels,\n",
    "        )\n",
    "\n",
    "        self.scale = 1.0 / math.sqrt(hidden_channels)\n",
    "\n",
    "    def forward(self, x):\n",
    "        # x.shape = (batch_size, seq_len, in_channels)\n",
    "\n",
    "        B = x.shape[0]\n",
    "        N = x.shape[1]\n",
    "\n",
    "        \"\"\"\n",
    "        insert the missing codes here\n",
    "        \"\"\"\n",
    "        Q = self.W_q(x)\n",
    "        K = self.W_k(x)\n",
    "        V = self.W_v(x)\n",
    "\n",
    "        # reshape\n",
    "        Q = Q.view(B, self.num_heads, N, self.hidden_channels)\n",
    "        K = K.view(B, self.num_heads, N, self.hidden_channels)\n",
    "        V = V.view(B, self.num_heads, N, self.hidden_channels)\n",
    "\n",
    "        # calculate attention\n",
    "        \"\"\"\n",
    "        Hint: you need to transpose the last two dimensions of K before you can multiply it with Q to get the attention logits.\n",
    "        \"\"\"\n",
    "        attn_logits = torch.matmul(Q, K.transpose(-2, -1))\n",
    "        attn_logits *= self.scale\n",
    "        attn_weights = F.softmax(attn_logits, dim=-1)\n",
    "        # attn_weights.shape: (B, num_heads, N, N)\n",
    "\n",
    "        # apply attention\n",
    "        mha_output = torch.matmul(attn_weights, V)\n",
    "        # mha_output.shape: (B, num_heads, N, hidden_channels)\n",
    "\n",
    "        # reshape\n",
    "        mha_output = mha_output.view(B, N, self.hidden_channels * self.num_heads)\n",
    "        # mha_output.shape: (B, N, hidden_channels * num_heads)\n",
    "\n",
    "        mha_output = self.W_o(mha_output)\n",
    "        # mha_output.shape: (B, N, in_channels)\n",
    "\n",
    "        return mha_output"
   ]
  },
  {
   "cell_type": "code",
   "execution_count": 3,
   "metadata": {},
   "outputs": [
    {
     "name": "stdout",
     "output_type": "stream",
     "text": [
      "Input shape: torch.Size([2, 5, 32])\n",
      "Output shape: torch.Size([2, 5, 32])\n"
     ]
    }
   ],
   "source": [
    "mha = MultiHeadAttention(32, 32, 4)\n",
    "x = torch.rand(2, 5, 32)\n",
    "output = mha(x)\n",
    "print(f\"Input shape: {x.shape}\")\n",
    "print(f\"Output shape: {output.shape}\")"
   ]
  },
  {
   "cell_type": "markdown",
   "metadata": {},
   "source": [
    "## Composing the Transformer Block"
   ]
  },
  {
   "cell_type": "markdown",
   "metadata": {},
   "source": [
    "![Transformer encoder](../labs/images/transformer-encoder.png)"
   ]
  },
  {
   "cell_type": "code",
   "execution_count": 4,
   "metadata": {},
   "outputs": [],
   "source": [
    "class FeedForwardNetwork(nn.Module):\n",
    "    def __init__(self, in_channels, hidden_channels, out_channels):\n",
    "        super(FeedForwardNetwork, self).__init__()\n",
    "        self.ff = nn.Sequential(\n",
    "            nn.Linear(in_channels, hidden_channels),\n",
    "            nn.ReLU(),\n",
    "            nn.Linear(hidden_channels, out_channels),\n",
    "        )\n",
    "\n",
    "    def forward(self, x):\n",
    "        return self.ff(x)\n",
    "\n",
    "\n",
    "class TransformerBlock(nn.Module):\n",
    "    def __init__(self, d_model, num_heads):\n",
    "        super(TransformerBlock, self).__init__()\n",
    "        hidden_channels = d_model // num_heads\n",
    "        self.mha = MultiHeadAttention(d_model, hidden_channels, num_heads)\n",
    "        self.ln1 = nn.LayerNorm(d_model)\n",
    "        self.ln2 = nn.LayerNorm(d_model)\n",
    "        self.ffn = FeedForwardNetwork(d_model, d_model * 4, d_model)\n",
    "\n",
    "    def forward(self, x):\n",
    "        mha_output = self.mha(x)\n",
    "        x = self.ln1(x + mha_output)\n",
    "        ffn_output = self.ffn(x)\n",
    "        x = self.ln2(x + ffn_output)\n",
    "        return x"
   ]
  },
  {
   "cell_type": "code",
   "execution_count": 5,
   "metadata": {},
   "outputs": [
    {
     "name": "stdout",
     "output_type": "stream",
     "text": [
      "Input shape: torch.Size([2, 5, 32])\n",
      "Output shape: torch.Size([2, 5, 32])\n"
     ]
    }
   ],
   "source": [
    "transformer_block = TransformerBlock(32, 4)\n",
    "x = torch.rand(2, 5, 32)\n",
    "output = transformer_block(x)\n",
    "\n",
    "print(f\"Input shape: {x.shape}\")\n",
    "print(f\"Output shape: {output.shape}\")"
   ]
  },
  {
   "cell_type": "markdown",
   "metadata": {},
   "source": [
    "## Task 2: define the Transformer Encoder"
   ]
  },
  {
   "cell_type": "code",
   "execution_count": 6,
   "metadata": {},
   "outputs": [],
   "source": [
    "class TransformerEncoder(nn.Module):\n",
    "    def __init__(self, d_model, num_heads, num_layers=1):\n",
    "        super(TransformerEncoder, self).__init__()\n",
    "        self.layers = nn.ModuleList(\n",
    "            [TransformerBlock(d_model, num_heads) for _ in range(num_layers)]\n",
    "        )\n",
    "\n",
    "    def forward(self, x):\n",
    "        # x.shape = (batch_size, seq_len, d_model)\n",
    "        for layer in self.layers:\n",
    "            x = layer(x)\n",
    "        return x"
   ]
  },
  {
   "cell_type": "markdown",
   "metadata": {},
   "source": [
    "## Task 3: build a Vision transformer\n",
    "We build a slight variation from the model below, namely we stick to the original Transformer Block architecture and just a single linear layer to project the output of the transformer to the number of classes."
   ]
  },
  {
   "cell_type": "markdown",
   "metadata": {},
   "source": [
    "![ViT](../labs/images/vit-overview.png)"
   ]
  },
  {
   "cell_type": "code",
   "execution_count": 7,
   "metadata": {},
   "outputs": [],
   "source": [
    "class VisionTransformer(nn.Module):\n",
    "    def __init__(\n",
    "        self, in_channels, d_model, num_heads, num_classes, n_patches, num_layers=1\n",
    "    ):\n",
    "        super(VisionTransformer, self).__init__()\n",
    "        # positional embeddings\n",
    "        self.pos_embedding = nn.Parameter(torch.randn(1, n_patches + 1, d_model) * 0.02)\n",
    "        self.cls_token = nn.Parameter(torch.zeros(1, 1, d_model))\n",
    "        self.encoder = TransformerEncoder(d_model, num_heads, num_layers)\n",
    "        self.fc_in = nn.Linear(in_channels, d_model)\n",
    "        self.fc_out = nn.Linear(d_model, num_classes)\n",
    "\n",
    "    def forward(self, x):\n",
    "        \"\"\"\n",
    "        fill in the blanks here\n",
    "        \"\"\"\n",
    "        # x.shape = (batch_size, n_patches, in_channels)\n",
    "        B, N, C = x.shape\n",
    "        x = self.fc_in(x)  # (B, N, C) -> (B, N, d_model)\n",
    "        cls_tokens = self.cls_token.expand(\n",
    "            B, -1, -1\n",
    "        )  # (1, 1, d_model) -> (B, 1, d_model)\n",
    "\n",
    "        # concatenate the cls token with the input\n",
    "        x = torch.cat((cls_tokens, x), dim=1)\n",
    "\n",
    "        # add the positonal embeddings\n",
    "        x += self.pos_embedding  # (B, N+1, d_model)\n",
    "\n",
    "        # apply the encoder\n",
    "        x = self.encoder(x)  # (B, N+1, d_model)\n",
    "        # extract the cls token\n",
    "        x = x[:, 0]  # (B, d_model)\n",
    "\n",
    "        x = self.fc_out(x)  # (B, num_classes)\n",
    "        return x"
   ]
  },
  {
   "cell_type": "markdown",
   "metadata": {},
   "source": [
    "## Train the Vision Transformer on MNIST dataset"
   ]
  },
  {
   "cell_type": "code",
   "execution_count": 8,
   "metadata": {},
   "outputs": [
    {
     "name": "stdout",
     "output_type": "stream",
     "text": [
      "Downloading http://yann.lecun.com/exdb/mnist/train-images-idx3-ubyte.gz\n",
      "Failed to download (trying next):\n",
      "HTTP Error 403: Forbidden\n",
      "\n",
      "Downloading https://ossci-datasets.s3.amazonaws.com/mnist/train-images-idx3-ubyte.gz\n",
      "Downloading https://ossci-datasets.s3.amazonaws.com/mnist/train-images-idx3-ubyte.gz to ./data/MNIST/raw/train-images-idx3-ubyte.gz\n"
     ]
    },
    {
     "name": "stderr",
     "output_type": "stream",
     "text": [
      "100%|██████████| 9912422/9912422 [00:01<00:00, 5837690.58it/s]\n"
     ]
    },
    {
     "name": "stdout",
     "output_type": "stream",
     "text": [
      "Extracting ./data/MNIST/raw/train-images-idx3-ubyte.gz to ./data/MNIST/raw\n",
      "\n",
      "Downloading http://yann.lecun.com/exdb/mnist/train-labels-idx1-ubyte.gz\n",
      "Failed to download (trying next):\n",
      "HTTP Error 403: Forbidden\n",
      "\n",
      "Downloading https://ossci-datasets.s3.amazonaws.com/mnist/train-labels-idx1-ubyte.gz\n",
      "Downloading https://ossci-datasets.s3.amazonaws.com/mnist/train-labels-idx1-ubyte.gz to ./data/MNIST/raw/train-labels-idx1-ubyte.gz\n"
     ]
    },
    {
     "name": "stderr",
     "output_type": "stream",
     "text": [
      "100%|██████████| 28881/28881 [00:00<00:00, 232536.03it/s]\n"
     ]
    },
    {
     "name": "stdout",
     "output_type": "stream",
     "text": [
      "Extracting ./data/MNIST/raw/train-labels-idx1-ubyte.gz to ./data/MNIST/raw\n",
      "\n",
      "Downloading http://yann.lecun.com/exdb/mnist/t10k-images-idx3-ubyte.gz\n",
      "Failed to download (trying next):\n",
      "HTTP Error 403: Forbidden\n",
      "\n",
      "Downloading https://ossci-datasets.s3.amazonaws.com/mnist/t10k-images-idx3-ubyte.gz\n",
      "Downloading https://ossci-datasets.s3.amazonaws.com/mnist/t10k-images-idx3-ubyte.gz to ./data/MNIST/raw/t10k-images-idx3-ubyte.gz\n"
     ]
    },
    {
     "name": "stderr",
     "output_type": "stream",
     "text": [
      "100%|██████████| 1648877/1648877 [00:12<00:00, 128685.68it/s]\n"
     ]
    },
    {
     "name": "stdout",
     "output_type": "stream",
     "text": [
      "Extracting ./data/MNIST/raw/t10k-images-idx3-ubyte.gz to ./data/MNIST/raw\n",
      "\n",
      "Downloading http://yann.lecun.com/exdb/mnist/t10k-labels-idx1-ubyte.gz\n",
      "Failed to download (trying next):\n",
      "HTTP Error 403: Forbidden\n",
      "\n",
      "Downloading https://ossci-datasets.s3.amazonaws.com/mnist/t10k-labels-idx1-ubyte.gz\n",
      "Downloading https://ossci-datasets.s3.amazonaws.com/mnist/t10k-labels-idx1-ubyte.gz to ./data/MNIST/raw/t10k-labels-idx1-ubyte.gz\n"
     ]
    },
    {
     "name": "stderr",
     "output_type": "stream",
     "text": [
      "100%|██████████| 4542/4542 [00:00<00:00, 2232571.05it/s]"
     ]
    },
    {
     "name": "stdout",
     "output_type": "stream",
     "text": [
      "Extracting ./data/MNIST/raw/t10k-labels-idx1-ubyte.gz to ./data/MNIST/raw\n",
      "\n"
     ]
    },
    {
     "name": "stderr",
     "output_type": "stream",
     "text": [
      "\n"
     ]
    }
   ],
   "source": [
    "transform = transforms.Compose(\n",
    "    [\n",
    "        transforms.ToTensor(),\n",
    "        transforms.Normalize((0.1307,), (0.3081,)),\n",
    "    ]\n",
    ")\n",
    "\n",
    "# Load MNIST dataset\n",
    "train_dataset = datasets.MNIST(\n",
    "    root=\"./data\", train=True, download=True, transform=transform\n",
    ")\n",
    "test_dataset = datasets.MNIST(\n",
    "    root=\"./data\", train=False, download=True, transform=transform\n",
    ")\n",
    "\n",
    "# reduce the size of the dataset for faster training\n",
    "train_dataset.data = train_dataset.data[:1000]\n",
    "train_dataset.targets = train_dataset.targets[:1000]\n",
    "\n",
    "test_dataset.data = test_dataset.data[:100]\n",
    "test_dataset.targets = test_dataset.targets[:100]"
   ]
  },
  {
   "cell_type": "code",
   "execution_count": 9,
   "metadata": {},
   "outputs": [],
   "source": [
    "def patchify_img(img, patch_size=7):\n",
    "    c, h, w = img.shape\n",
    "    assert h / patch_size == h // patch_size, \"height must be divisible by patch size\"\n",
    "    assert w / patch_size == w // patch_size, \"width must be divisible by patch size\"\n",
    "    patches = img.reshape(c, h // patch_size, patch_size, -1, patch_size)\n",
    "    patches = patches.permute(0, 1, 3, 2, 4).reshape(-1, patch_size, patch_size)\n",
    "    return patches\n",
    "\n",
    "\n",
    "class PatchifyDataset(Dataset):\n",
    "    def __init__(self, dataset, patch_size):\n",
    "        self.dataset = dataset\n",
    "        self.patch_size = patch_size\n",
    "\n",
    "    def __len__(self):\n",
    "        return len(self.dataset)\n",
    "\n",
    "    def __getitem__(self, idx):\n",
    "        img, label = self.dataset[idx]\n",
    "        patches = patchify_img(img, self.patch_size)\n",
    "        # flatten the last dim\n",
    "        patches = patches.view(patches.size(0), -1)\n",
    "        return patches, label"
   ]
  },
  {
   "cell_type": "code",
   "execution_count": 10,
   "metadata": {},
   "outputs": [
    {
     "name": "stdout",
     "output_type": "stream",
     "text": [
      "Using cpu\n",
      "Epoch 0, Train loss: 2.1954911909997463, Val. loss: 1.9341664612293243\n",
      "Epoch 1, Train loss: 1.8509266898036003, Val. loss: 1.538341373205185\n",
      "Epoch 2, Train loss: 1.712977096438408, Val. loss: 1.447629451751709\n",
      "Epoch 3, Train loss: 1.6089960783720016, Val. loss: 1.3338679075241089\n",
      "Epoch 4, Train loss: 1.5326409675180912, Val. loss: 1.217434585094452\n",
      "Epoch 5, Train loss: 1.4615035653114319, Val. loss: 1.1510196924209595\n",
      "Epoch 6, Train loss: 1.3826995119452477, Val. loss: 1.1598309874534607\n",
      "Epoch 7, Train loss: 1.386367093771696, Val. loss: 1.146871656179428\n",
      "Epoch 8, Train loss: 1.3531720228493214, Val. loss: 1.1239045560359955\n",
      "Epoch 9, Train loss: 1.3576050363481045, Val. loss: 1.1051425486803055\n",
      "Epoch 10, Train loss: 1.3012544494122267, Val. loss: 1.1214271783828735\n",
      "Epoch 11, Train loss: 1.2903078384697437, Val. loss: 1.062792420387268\n",
      "Epoch 12, Train loss: 1.3005055338144302, Val. loss: 1.09966579079628\n",
      "Epoch 13, Train loss: 1.2861209157854319, Val. loss: 1.1920525282621384\n",
      "Epoch 14, Train loss: 1.276219304651022, Val. loss: 1.065184846520424\n",
      "Epoch 15, Train loss: 1.2553762570023537, Val. loss: 1.1177169978618622\n",
      "Epoch 16, Train loss: 1.2580876629799604, Val. loss: 1.0897001326084137\n",
      "Epoch 17, Train loss: 1.252215676009655, Val. loss: 1.2353010773658752\n",
      "Epoch 18, Train loss: 1.2707740478217602, Val. loss: 1.070671558380127\n",
      "Epoch 19, Train loss: 1.2619925159960985, Val. loss: 1.1792313307523727\n",
      "Epoch 20, Train loss: 1.2195547446608543, Val. loss: 1.0577315837144852\n",
      "Epoch 21, Train loss: 1.2467472422868013, Val. loss: 1.1778566539287567\n",
      "Epoch 22, Train loss: 1.2304416093975306, Val. loss: 1.1442795097827911\n",
      "Epoch 23, Train loss: 1.2047460470348597, Val. loss: 1.1054535806179047\n",
      "Epoch 24, Train loss: 1.2003763653337955, Val. loss: 1.120077222585678\n",
      "Epoch 25, Train loss: 1.2158280704170465, Val. loss: 1.2503080517053604\n",
      "Epoch 26, Train loss: 1.1846707966178656, Val. loss: 1.1053498685359955\n",
      "Epoch 27, Train loss: 1.183594522997737, Val. loss: 1.1083980053663254\n",
      "Epoch 28, Train loss: 1.189464120194316, Val. loss: 1.0637960582971573\n",
      "Epoch 29, Train loss: 1.1698965206742287, Val. loss: 1.0666479468345642\n",
      "Epoch 30, Train loss: 1.1494921557605267, Val. loss: 1.14674411714077\n",
      "Epoch 31, Train loss: 1.1559443604201078, Val. loss: 1.2027480006217957\n",
      "Epoch 32, Train loss: 1.156148687005043, Val. loss: 1.2186730355024338\n",
      "Epoch 33, Train loss: 1.1515072397887707, Val. loss: 1.0444763004779816\n",
      "Epoch 34, Train loss: 1.1363178174942732, Val. loss: 0.9948398023843765\n",
      "Epoch 35, Train loss: 1.1054917331784964, Val. loss: 1.1442286372184753\n",
      "Epoch 36, Train loss: 1.1171023268252611, Val. loss: 1.1472964584827423\n",
      "Epoch 37, Train loss: 1.1267676372081041, Val. loss: 1.158206731081009\n",
      "Epoch 38, Train loss: 1.094797259196639, Val. loss: 1.1198955476284027\n",
      "Epoch 39, Train loss: 1.0936662144958973, Val. loss: 1.0473732650279999\n",
      "Epoch 40, Train loss: 1.0778837036341429, Val. loss: 1.1444764733314514\n",
      "Epoch 41, Train loss: 1.060031833127141, Val. loss: 1.1019474565982819\n",
      "Epoch 42, Train loss: 1.0661748982965946, Val. loss: 1.0039530247449875\n",
      "Epoch 43, Train loss: 1.0461002700030804, Val. loss: 1.149289846420288\n",
      "Epoch 44, Train loss: 1.0443122833967209, Val. loss: 1.1569894403219223\n",
      "Epoch 45, Train loss: 1.0442316383123398, Val. loss: 1.0951113849878311\n",
      "Epoch 46, Train loss: 1.0314007923007011, Val. loss: 1.1785355806350708\n",
      "Epoch 47, Train loss: 1.0453894510865211, Val. loss: 1.251623809337616\n",
      "Epoch 48, Train loss: 1.0264342967420816, Val. loss: 1.1101428866386414\n",
      "Epoch 49, Train loss: 1.0329193118959665, Val. loss: 1.3094587475061417\n"
     ]
    }
   ],
   "source": [
    "batch_size = 32\n",
    "n_epochs = 50\n",
    "patch_size = 7\n",
    "num_layers = 1\n",
    "num_heads = 4\n",
    "seed = 42\n",
    "\n",
    "torch.manual_seed(seed)\n",
    "\n",
    "train_dataset_patched = PatchifyDataset(train_dataset, patch_size=patch_size)\n",
    "test_dataset_patched = PatchifyDataset(test_dataset, patch_size=patch_size)\n",
    "\n",
    "train_loader = DataLoader(train_dataset_patched, batch_size=batch_size, shuffle=True)\n",
    "test_loader = DataLoader(test_dataset_patched, batch_size=batch_size, shuffle=False)\n",
    "\n",
    "device = torch.device(\"cuda\" if torch.cuda.is_available() else \"cpu\")\n",
    "print(f\"Using {device}\")\n",
    "\n",
    "model = VisionTransformer(\n",
    "    in_channels=patch_size**2,\n",
    "    d_model=32,\n",
    "    num_heads=num_heads,\n",
    "    num_classes=10,\n",
    "    n_patches=16,\n",
    "    num_layers=num_layers,\n",
    ").to(device)\n",
    "optimizer = torch.optim.Adam(model.parameters(), lr=0.001)\n",
    "criterion = nn.CrossEntropyLoss()\n",
    "\n",
    "train_losses = []\n",
    "val_losses = []\n",
    "\n",
    "for epoch in range(n_epochs):\n",
    "    model.train()\n",
    "    running_train_loss = 0.0\n",
    "    for x, y in train_loader:\n",
    "        x, y = x.to(device), y.to(device)\n",
    "        optimizer.zero_grad()\n",
    "        y_pred = model(x)\n",
    "        loss = criterion(y_pred, y)\n",
    "        loss.backward()\n",
    "        optimizer.step()\n",
    "        running_train_loss += loss.item()\n",
    "    running_train_loss /= len(train_loader)\n",
    "\n",
    "    model.eval()\n",
    "    running_val_loss = 0.0\n",
    "    with torch.no_grad():\n",
    "        for x, y in test_loader:\n",
    "            x, y = x.to(device), y.to(device)\n",
    "            y_pred = model(x)\n",
    "            val_loss = criterion(y_pred, y)\n",
    "            running_val_loss += val_loss.item()\n",
    "        running_val_loss /= len(test_loader)\n",
    "\n",
    "    print(\n",
    "        f\"Epoch {epoch}, Train loss: {running_train_loss}, Val. loss: {running_val_loss}\"\n",
    "    )\n",
    "    train_losses.append(running_train_loss)\n",
    "    val_losses.append(running_val_loss)"
   ]
  },
  {
   "cell_type": "code",
   "execution_count": 11,
   "metadata": {},
   "outputs": [
    {
     "data": {
      "image/png": "[encoded data removed]",
      "text/plain": [
       "<Figure size 640x480 with 1 Axes>"
      ]
     },
     "metadata": {},
     "output_type": "display_data"
    }
   ],
   "source": [
    "plt.plot(train_losses, label=\"train loss\")\n",
    "plt.plot(val_losses, label=\"val loss\")\n",
    "plt.legend()\n",
    "plt.show()"
   ]
  },
  {
   "cell_type": "markdown",
   "metadata": {},
   "source": [
    "## Bonus: apply the model on the full test set, visualize some results and compute the accuracy"
   ]
  },
  {
   "cell_type": "code",
   "execution_count": null,
   "metadata": {},
   "outputs": [],
   "source": []
  },
  {
   "cell_type": "markdown",
   "metadata": {},
   "source": [
    "## Further reading/watching"
   ]
  },
  {
   "cell_type": "markdown",
   "metadata": {},
   "source": [
    "1. [GPT from scratch by Andrey Karpathy](https://www.youtube.com/watch?v=kCc8FmEb1nY), his other videos are also extremely informative"
   ]
  }
 ],
 "metadata": {
  "kernelspec": {
   "display_name": "spacet",
   "language": "python",
   "name": "python3"
  },
  "language_info": {
   "codemirror_mode": {
    "name": "ipython",
    "version": 3
   },
   "file_extension": ".py",
   "mimetype": "text/x-python",
   "name": "python",
   "nbconvert_exporter": "python",
   "pygments_lexer": "ipython3",
   "version": "3.10.13"
  }
 },
 "nbformat": 4,
 "nbformat_minor": 2
}
